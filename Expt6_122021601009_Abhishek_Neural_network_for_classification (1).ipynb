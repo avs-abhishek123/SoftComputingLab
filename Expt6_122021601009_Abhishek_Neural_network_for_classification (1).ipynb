{
  "nbformat": 4,
  "nbformat_minor": 0,
  "metadata": {
    "colab": {
      "name": "Expt6_122021601009_Abhishek_Neural_network_for_classification.ipynb",
      "provenance": []
    },
    "kernelspec": {
      "name": "python3",
      "display_name": "Python 3"
    },
    "language_info": {
      "name": "python"
    },
    "accelerator": "GPU"
  },
  "cells": [
    {
      "cell_type": "markdown",
      "metadata": {
        "id": "1vuS7E4yPgZF"
      },
      "source": [
        "# **Expt6_122021601009_Abhishek_Neural_network_for_classification**"
      ]
    },
    {
      "cell_type": "code",
      "metadata": {
        "id": "njaVp7fRPcoj"
      },
      "source": [
        "#importing libraries\n",
        "import numpy as np #for array operations\n",
        "import tensorflow as tf #to import tensorflow interfaces\n",
        "import matplotlib.pyplot as plt #for visualization\n",
        "import keras\n",
        "from keras.utils.np_utils import to_categorical\n",
        "from keras.layers import Dense\n",
        "from keras.models import Sequential"
      ],
      "execution_count": 3,
      "outputs": []
    },
    {
      "cell_type": "code",
      "metadata": {
        "colab": {
          "base_uri": "https://localhost:8080/"
        },
        "id": "cUHfvIo9QfVX",
        "outputId": "78a36ea7-7836-4cc0-f52f-c3393aabc022"
      },
      "source": [
        "(x_train, y_train), (x_test, y_test) = tf.keras.datasets.mnist.load_data()\n",
        "print(\"Training data shape: \", x_train.shape)\n",
        "print(\"Test data shape\", x_test.shape)"
      ],
      "execution_count": 4,
      "outputs": [
        {
          "output_type": "stream",
          "text": [
            "Downloading data from https://storage.googleapis.com/tensorflow/tf-keras-datasets/mnist.npz\n",
            "11493376/11490434 [==============================] - 0s 0us/step\n",
            "Training data shape:  (60000, 28, 28)\n",
            "Test data shape (10000, 28, 28)\n"
          ],
          "name": "stdout"
        }
      ]
    },
    {
      "cell_type": "code",
      "metadata": {
        "colab": {
          "base_uri": "https://localhost:8080/",
          "height": 299
        },
        "id": "w9gwd7YVQmEO",
        "outputId": "d1b523d5-231a-420a-a919-dd8a72095e2e"
      },
      "source": [
        "image_index = 7777\n",
        "print(y_train[image_index])\n",
        "plt.imshow(x_train[image_index], cmap='Greys' )"
      ],
      "execution_count": 6,
      "outputs": [
        {
          "output_type": "stream",
          "text": [
            "8\n"
          ],
          "name": "stdout"
        },
        {
          "output_type": "execute_result",
          "data": {
            "text/plain": [
              "<matplotlib.image.AxesImage at 0x7fe0b5d7eb10>"
            ]
          },
          "metadata": {
            "tags": []
          },
          "execution_count": 6
        },
        {
          "output_type": "display_data",
          "data": {
            "image/png": "[encoded data removed]",
            "text/plain": [
              "<Figure size 432x288 with 1 Axes>"
            ]
          },
          "metadata": {
            "tags": [],
            "needs_background": "light"
          }
        }
      ]
    },
    {
      "cell_type": "code",
      "metadata": {
        "colab": {
          "base_uri": "https://localhost:8080/"
        },
        "id": "1YxlAXtTQyeA",
        "outputId": "b6993cf0-5a99-4e35-f3f3-d65837f5497d"
      },
      "source": [
        "image_vector_size = 28*28\n",
        "x_train = x_train.reshape(x_train.shape[0], image_vector_size)\n",
        "x_test = x_test.reshape(x_test.shape[0], image_vector_size)\n",
        "num_classes = 10\n",
        "y_train = to_categorical(y_train, num_classes)\n",
        "y_test = to_categorical(y_test, num_classes)\n",
        "print( \"First 5 training lables as one-hot encoded vectors:\\n\", y_train[:5])"
      ],
      "execution_count": 7,
      "outputs": [
        {
          "output_type": "stream",
          "text": [
            "First 5 training lables as one-hot encoded vectors:\n",
            " [[0. 0. 0. 0. 0. 1. 0. 0. 0. 0.]\n",
            " [1. 0. 0. 0. 0. 0. 0. 0. 0. 0.]\n",
            " [0. 0. 0. 0. 1. 0. 0. 0. 0. 0.]\n",
            " [0. 1. 0. 0. 0. 0. 0. 0. 0. 0.]\n",
            " [0. 0. 0. 0. 0. 0. 0. 0. 0. 1.]]\n"
          ],
          "name": "stdout"
        }
      ]
    },
    {
      "cell_type": "code",
      "metadata": {
        "id": "De9KomMURj3c"
      },
      "source": [
        "image_size = 784 # 28*28\n",
        "num_classes = 10 # ten unique digits\n",
        "model = Sequential()"
      ],
      "execution_count": 9,
      "outputs": []
    },
    {
      "cell_type": "code",
      "metadata": {
        "colab": {
          "base_uri": "https://localhost:8080/"
        },
        "id": "0F6fonLtRuyp",
        "outputId": "a00f4111-d3cf-49f9-b7ff-e8b92c321a46"
      },
      "source": [
        "# The input layer requires the special input _shape parameter which should match the shape of\n",
        "model.add(Dense(units=32, activation='sigmoid', input_shape=(image_size, )))\n",
        "model.add(Dense(units=num_classes, activation='softmax' ) )\n",
        "model.summary()"
      ],
      "execution_count": 10,
      "outputs": [
        {
          "output_type": "stream",
          "text": [
            "Model: \"sequential\"\n",
            "_________________________________________________________________\n",
            "Layer (type)                 Output Shape              Param #   \n",
            "=================================================================\n",
            "dense (Dense)                (None, 32)                25120     \n",
            "_________________________________________________________________\n",
            "dense_1 (Dense)              (None, 10)                330       \n",
            "=================================================================\n",
            "Total params: 25,450\n",
            "Trainable params: 25,450\n",
            "Non-trainable params: 0\n",
            "_________________________________________________________________\n"
          ],
          "name": "stdout"
        }
      ]
    },
    {
      "cell_type": "code",
      "metadata": {
        "colab": {
          "base_uri": "https://localhost:8080/"
        },
        "id": "UZsn1tAYR8IV",
        "outputId": "50347783-3f6d-4c0c-b2d2-dbbccbb7d56d"
      },
      "source": [
        "model.compile(optimizer=\"sgd\", loss='categorical_crossentropy', metrics=[ 'accuracy' ])\n",
        "history = model.fit(x_train, y_train, batch_size=128, epochs=10, validation_split=.3)"
      ],
      "execution_count": 11,
      "outputs": [
        {
          "output_type": "stream",
          "text": [
            "Epoch 1/10\n",
            "329/329 [==============================] - 14s 4ms/step - loss: 1.8990 - accuracy: 0.4001 - val_loss: 1.2024 - val_accuracy: 0.7583\n",
            "Epoch 2/10\n",
            "329/329 [==============================] - 1s 3ms/step - loss: 1.1188 - accuracy: 0.7728 - val_loss: 0.8946 - val_accuracy: 0.8228\n",
            "Epoch 3/10\n",
            "329/329 [==============================] - 1s 3ms/step - loss: 0.8624 - accuracy: 0.8285 - val_loss: 0.7363 - val_accuracy: 0.8506\n",
            "Epoch 4/10\n",
            "329/329 [==============================] - 1s 3ms/step - loss: 0.7214 - accuracy: 0.8528 - val_loss: 0.6600 - val_accuracy: 0.8608\n",
            "Epoch 5/10\n",
            "329/329 [==============================] - 1s 3ms/step - loss: 0.6386 - accuracy: 0.8624 - val_loss: 0.6617 - val_accuracy: 0.8577\n",
            "Epoch 6/10\n",
            "329/329 [==============================] - 1s 3ms/step - loss: 0.6050 - accuracy: 0.8661 - val_loss: 0.5371 - val_accuracy: 0.8772\n",
            "Epoch 7/10\n",
            "329/329 [==============================] - 1s 3ms/step - loss: 0.5352 - accuracy: 0.8787 - val_loss: 0.5067 - val_accuracy: 0.8798\n",
            "Epoch 8/10\n",
            "329/329 [==============================] - 1s 3ms/step - loss: 0.4927 - accuracy: 0.8840 - val_loss: 0.4969 - val_accuracy: 0.8819\n",
            "Epoch 9/10\n",
            "329/329 [==============================] - 1s 3ms/step - loss: 0.4831 - accuracy: 0.8862 - val_loss: 0.4579 - val_accuracy: 0.8887\n",
            "Epoch 10/10\n",
            "329/329 [==============================] - 1s 3ms/step - loss: 0.4469 - accuracy: 0.8927 - val_loss: 0.4361 - val_accuracy: 0.8897\n"
          ],
          "name": "stdout"
        }
      ]
    },
    {
      "cell_type": "code",
      "metadata": {
        "colab": {
          "base_uri": "https://localhost:8080/",
          "height": 831
        },
        "id": "3gxonA6TSdav",
        "outputId": "3bac7a2d-38ec-4844-85b8-31b58739fdac"
      },
      "source": [
        "loss, accuracy = model.evaluate(x_test, y_test, verbose=False)\n",
        "history.history\n",
        "plt.plot(history.history['accuracy'])\n",
        "plt.plot(history.history[ 'val_accuracy'])\n",
        "plt.title( 'model accuracy')\n",
        "plt.ylabel('accuracy')\n",
        "plt.xlabel('epoch')\n",
        "plt.legend(['train','test'], loc='upper_left')\n",
        "plt.show()\n",
        "plt.plot(history.history['loss'])\n",
        "plt.plot(history.history['val_loss'])\n",
        "plt.title('model_loss')\n",
        "plt.ylabel('loss')\n",
        "plt.xlabel('epoch')\n",
        "plt.legend(['train','test'], loc='upper left')\n",
        "plt.show()"
      ],
      "execution_count": 13,
      "outputs": [
        {
          "output_type": "stream",
          "text": [
            "/usr/local/lib/python3.7/dist-packages/ipykernel_launcher.py:8: MatplotlibDeprecationWarning: Unrecognized location 'upper_left'. Falling back on 'best'; valid locations are\n",
            "\tbest\n",
            "\tupper right\n",
            "\tupper left\n",
            "\tlower left\n",
            "\tlower right\n",
            "\tright\n",
            "\tcenter left\n",
            "\tcenter right\n",
            "\tlower center\n",
            "\tupper center\n",
            "\tcenter\n",
            "This will raise an exception in 3.3.\n",
            "  \n"
          ],
          "name": "stderr"
        },
        {
          "output_type": "display_data",
          "data": {
            "image/png": "[encoded data removed]",
            "text/plain": [
              "<Figure size 432x288 with 1 Axes>"
            ]
          },
          "metadata": {
            "tags": [],
            "needs_background": "light"
          }
        },
        {
          "output_type": "display_data",
          "data": {
            "image/png": "[encoded data removed]",
            "text/plain": [
              "<Figure size 432x288 with 1 Axes>"
            ]
          },
          "metadata": {
            "tags": [],
            "needs_background": "light"
          }
        }
      ]
    }
  ]
}