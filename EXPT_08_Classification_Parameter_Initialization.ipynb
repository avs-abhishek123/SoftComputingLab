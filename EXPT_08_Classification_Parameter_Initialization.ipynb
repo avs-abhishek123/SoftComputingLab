{
  "nbformat": 4,
  "nbformat_minor": 0,
  "metadata": {
    "colab": {
      "name": "EXP_08_Classification_Parameter_Initialization.ipynb",
      "provenance": [],
      "collapsed_sections": []
    },
    "kernelspec": {
      "name": "python3",
      "display_name": "Python 3"
    },
    "language_info": {
      "name": "python"
    }
  },
  "cells": [
    {
      "cell_type": "markdown",
      "metadata": {
        "id": "XL3lJkK2O83Q"
      },
      "source": [
        "**EXP-8 (Build a classification model using different parameter initialization techniques)**<br> by  Allena Venkata Sai Abhishek (122021601009)"
      ]
    },
    {
      "cell_type": "code",
      "metadata": {
        "id": "_GYmsmXmoToL"
      },
      "source": [
        "import tensorflow as tf                                   # deep learning library. Tensors are just multi-dimensional arrays"
      ],
      "execution_count": 1,
      "outputs": []
    },
    {
      "cell_type": "code",
      "metadata": {
        "colab": {
          "base_uri": "https://localhost:8080/",
          "height": 0
        },
        "id": "zW1W8HH5qFsC",
        "outputId": "e1167443-9955-408f-b0b5-ba977ae1f816"
      },
      "source": [
        "mnist = tf.keras.datasets.mnist                           # mnist is a dataset of 28x28 images of handwritten digits and their labels\n",
        "(x_train, y_train),(x_test, y_test) = mnist.load_data()   # unpacks images to x_train/x_test and labels to y_train/y_test"
      ],
      "execution_count": 2,
      "outputs": [
        {
          "output_type": "stream",
          "text": [
            "Downloading data from https://storage.googleapis.com/tensorflow/tf-keras-datasets/mnist.npz\n",
            "11493376/11490434 [==============================] - 0s 0us/step\n"
          ],
          "name": "stdout"
        }
      ]
    },
    {
      "cell_type": "code",
      "metadata": {
        "id": "hC4CER2hqInQ"
      },
      "source": [
        "x_train = tf.keras.utils.normalize(x_train, axis=1)       # scales data between 0 and 1\n",
        "x_test = tf.keras.utils.normalize(x_test, axis=1)         # scales data between 0 and 1"
      ],
      "execution_count": 3,
      "outputs": []
    },
    {
      "cell_type": "code",
      "metadata": {
        "id": "khWUD_OyqLHZ"
      },
      "source": [
        "def model_create(n_layers,initializer):\n",
        "  model = tf.keras.models.Sequential()                      # a basic feed-forward model\n",
        "  model.add(tf.keras.layers.Flatten())                      # takes our 28x28 and makes it 1x784\n",
        "  \n",
        "  for i in range(n_layers):\n",
        "    model.add(tf.keras.layers.Dense(128, kernel_initializer=initializer, activation=tf.nn.relu))  # a simple fully-connected layer, 128 units, relu activation\n",
        "  \n",
        "  model.add(tf.keras.layers.Dense(10, kernel_initializer=initializer, activation=tf.nn.softmax))  # our output layer. 10 units for 10 classes. Softmax for probability distribution\n",
        "\n",
        "  model.compile(optimizer='adam',  # Good default optimizer to start with\n",
        "              loss='sparse_categorical_crossentropy',  # how will we calculate our \"error.\" Neural network aims to minimize loss.\n",
        "              metrics=['accuracy'])  # what to track\n",
        "\n",
        "  return model\n",
        "\n",
        "\n"
      ],
      "execution_count": 4,
      "outputs": []
    },
    {
      "cell_type": "code",
      "metadata": {
        "colab": {
          "base_uri": "https://localhost:8080/",
          "height": 0
        },
        "id": "pr710CbhS8KZ",
        "outputId": "2835cf3b-20af-434b-f2ae-8518dff4ce67"
      },
      "source": [
        "zeros_model = model_create(2,tf.keras.initializers.Zeros())\n",
        "zeros_history = zeros_model.fit(x_train, y_train, epochs=3)  # train the model"
      ],
      "execution_count": 5,
      "outputs": [
        {
          "output_type": "stream",
          "text": [
            "Epoch 1/3\n",
            "1875/1875 [==============================] - 7s 3ms/step - loss: 2.3015 - accuracy: 0.1122\n",
            "Epoch 2/3\n",
            "1875/1875 [==============================] - 6s 3ms/step - loss: 2.3014 - accuracy: 0.1124\n",
            "Epoch 3/3\n",
            "1875/1875 [==============================] - 6s 3ms/step - loss: 2.3013 - accuracy: 0.1124\n"
          ],
          "name": "stdout"
        }
      ]
    },
    {
      "cell_type": "code",
      "metadata": {
        "colab": {
          "base_uri": "https://localhost:8080/",
          "height": 0
        },
        "id": "4ETgjLwaWd8U",
        "outputId": "abb825b3-475d-4636-9c56-5bbe102c7e34"
      },
      "source": [
        "he_model = model_create(2,tf.keras.initializers.HeNormal())\n",
        "he_history = he_model.fit(x_train, y_train, epochs=3)  # train the model"
      ],
      "execution_count": 6,
      "outputs": [
        {
          "output_type": "stream",
          "text": [
            "Epoch 1/3\n",
            "1875/1875 [==============================] - 6s 3ms/step - loss: 0.2517 - accuracy: 0.9245\n",
            "Epoch 2/3\n",
            "1875/1875 [==============================] - 6s 3ms/step - loss: 0.1030 - accuracy: 0.9681\n",
            "Epoch 3/3\n",
            "1875/1875 [==============================] - 6s 3ms/step - loss: 0.0721 - accuracy: 0.9771\n"
          ],
          "name": "stdout"
        }
      ]
    },
    {
      "cell_type": "code",
      "metadata": {
        "colab": {
          "base_uri": "https://localhost:8080/",
          "height": 0
        },
        "id": "hgKd4Ws8XRRD",
        "outputId": "fdbd87a3-343b-47e6-8dfb-9978b8dcbb91"
      },
      "source": [
        "xavier_model = model_create(2,tf.keras.initializers.GlorotUniform())\n",
        "xavier_history = xavier_model.fit(x_train, y_train, epochs=3)"
      ],
      "execution_count": 7,
      "outputs": [
        {
          "output_type": "stream",
          "text": [
            "Epoch 1/3\n",
            "1875/1875 [==============================] - 6s 3ms/step - loss: 0.2648 - accuracy: 0.9226\n",
            "Epoch 2/3\n",
            "1875/1875 [==============================] - 6s 3ms/step - loss: 0.1071 - accuracy: 0.9669\n",
            "Epoch 3/3\n",
            "1875/1875 [==============================] - 6s 3ms/step - loss: 0.0715 - accuracy: 0.9776\n"
          ],
          "name": "stdout"
        }
      ]
    },
    {
      "cell_type": "code",
      "metadata": {
        "id": "U-DDaqIUS4ka"
      },
      "source": [
        "def print_layer(model):\n",
        " layers = model.layers\n",
        " for layer in layers:\n",
        "  print(\"Initial Weights\")\n",
        "  print(\"Layer:\",layer,end='\\n')\n",
        "  print(\"layer weights:  \",layer.weights,end='\\n')\n",
        "  #print(\"layer bias initializer:  \",layer.bias_initializer)"
      ],
      "execution_count": 8,
      "outputs": []
    },
    {
      "cell_type": "code",
      "metadata": {
        "id": "3S5xaySEqOPg"
      },
      "source": [
        "def evaluate_model(model):\n",
        "  val_loss, val_acc = model.evaluate(x_test, y_test)  # evaluate the out of sample data with model\n",
        "  print(val_loss)  # model's loss (error)\n",
        "  print(val_acc)  # model's accuracy"
      ],
      "execution_count": 9,
      "outputs": []
    },
    {
      "cell_type": "code",
      "metadata": {
        "id": "ZhRsZAwXwtka",
        "colab": {
          "base_uri": "https://localhost:8080/",
          "height": 0
        },
        "outputId": "31ba1a3c-9988-4b28-b304-25900dcf1d85"
      },
      "source": [
        "evaluate_model(he_model)"
      ],
      "execution_count": 10,
      "outputs": [
        {
          "output_type": "stream",
          "text": [
            "313/313 [==============================] - 1s 2ms/step - loss: 0.0952 - accuracy: 0.9688\n",
            "0.09515849500894547\n",
            "0.9688000082969666\n"
          ],
          "name": "stdout"
        }
      ]
    },
    {
      "cell_type": "code",
      "metadata": {
        "colab": {
          "base_uri": "https://localhost:8080/",
          "height": 518
        },
        "id": "02KLfwvxYBia",
        "outputId": "2aa65f3d-51e3-4a07-8ceb-a2c4c3f52fa7"
      },
      "source": [
        "#Plotting metric curves\n",
        "import matplotlib.pyplot as plt\n",
        "\n",
        "\n",
        "\n",
        "plt.figure(figsize=(16, 8))\n",
        "\n",
        "plt.subplot(1, 2, 1)\n",
        "plt.plot(zeros_history.history['accuracy'])\n",
        "plt.plot(he_history.history['accuracy'])\n",
        "plt.plot(xavier_history.history['accuracy'])\n",
        "plt.xlabel(\"Epochs\")\n",
        "plt.ylabel('accuracy')\n",
        "plt.legend(['zeros_accuracy', 'he_accuracy', 'xavier_accuracy'])\n",
        "plt.ylim(None, 1)\n",
        "\n",
        "plt.subplot(1, 2, 2)\n",
        "plt.plot(zeros_history.history['loss'])\n",
        "plt.plot(he_history.history['loss'])\n",
        "plt.plot(xavier_history.history['loss'])\n",
        "plt.xlabel(\"Epochs\")\n",
        "plt.ylabel('loss')\n",
        "plt.legend(['zeros_loss', 'he_loss', 'xavier_loss'])\n",
        "plt.ylim(0, None)"
      ],
      "execution_count": 11,
      "outputs": [
        {
          "output_type": "execute_result",
          "data": {
            "text/plain": [
              "(0.0, 2.413042791187763)"
            ]
          },
          "metadata": {
            "tags": []
          },
          "execution_count": 11
        },
        {
          "output_type": "display_data",
          "data": {
            "image/png": "[encoded data removed]",
            "text/plain": [
              "<Figure size 1152x576 with 2 Axes>"
            ]
          },
          "metadata": {
            "tags": [],
            "needs_background": "light"
          }
        }
      ]
    },
    {
      "cell_type": "code",
      "metadata": {
        "id": "FqM3yn_NY1p9"
      },
      "source": [
        "#Thankyou"
      ],
      "execution_count": null,
      "outputs": []
    }
  ]
}
