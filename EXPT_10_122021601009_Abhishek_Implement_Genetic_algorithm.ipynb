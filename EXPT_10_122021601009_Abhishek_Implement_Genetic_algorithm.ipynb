{
  "nbformat": 4,
  "nbformat_minor": 0,
  "metadata": {
    "colab": {
      "name": "Expt10_122021601009_Abhishek_Implement_Genetic_algorithm.ipynb",
      "provenance": []
    },
    "kernelspec": {
      "name": "python3",
      "display_name": "Python 3"
    },
    "language_info": {
      "name": "python"
    }
  },
  "cells": [
    {
      "cell_type": "code",
      "metadata": {
        "colab": {
          "base_uri": "https://localhost:8080/",
          "height": 0
        },
        "id": "HrfpU60Nwg3p",
        "outputId": "579089c0-f792-4e1e-8978-dcb09139027f"
      },
      "source": [
        "#genetic algorithm search of the one max optimization problem\n",
        "from numpy.random import randint\n",
        "from numpy.random import rand\n",
        " \n",
        "# objective function\n",
        "def onemax(x):\n",
        "  return -sum(x)\n",
        " \n",
        "# tournament selection\n",
        "def selection(pop, scores, k=3):\n",
        "  # first random selection\n",
        "  selection_ix = randint(len(pop))\n",
        "  for ix in randint(0, len(pop), k-1):\n",
        "    # check if better (e.g. perform a tournament)\n",
        "    if scores[ix] < scores[selection_ix]:\n",
        "      selection_ix = ix\n",
        "  return pop[selection_ix]\n",
        " \n",
        "# crossover two parents to create two children\n",
        "def crossover(p1, p2, r_cross):\n",
        "  # children are copies of parents by default\n",
        "  c1, c2 = p1.copy(), p2.copy()\n",
        "  # check for recombination\n",
        "  if rand() < r_cross:\n",
        "    # select crossover point that is not on the end of the string\n",
        "    pt = randint(1, len(p1)-2)\n",
        "    # perform crossover\n",
        "    c1 = p1[:pt] + p2[pt:]\n",
        "    c2 = p2[:pt] + p1[pt:]\n",
        "  return [c1, c2]\n",
        " \n",
        "# mutation operator\n",
        "def mutation(bitstring, r_mut):\n",
        "  for i in range(len(bitstring)):\n",
        "    # check for a mutation\n",
        "    if rand() < r_mut:\n",
        "      # flip the bit\n",
        "      bitstring[i] = 1 - bitstring[i]\n",
        " \n",
        "# genetic algorithm\n",
        "def genetic_algorithm(objective, n_bits, n_iter, n_pop, r_cross, r_mut):\n",
        "  # initial population of random bitstring\n",
        "  pop = [randint(0, 2, n_bits).tolist() for _ in range(n_pop)]\n",
        "  # keep track of best solution\n",
        "  best, best_eval = 0, objective(pop[0])\n",
        "  # enumerate generations\n",
        "  for gen in range(n_iter):\n",
        "    # evaluate all candidates in the population\n",
        "    scores = [objective(c) for c in pop]\n",
        "    # check for new best solution\n",
        "    for i in range(n_pop):\n",
        "      if scores[i] < best_eval:\n",
        "        best, best_eval = pop[i], scores[i]\n",
        "        print(\">%d, new best f(%s) = %.3f\" % (gen,  pop[i], scores[i]))\n",
        "    # select parents\n",
        "    selected = [selection(pop, scores) for _ in range(n_pop)]\n",
        "    # create the next generation\n",
        "    children = list()\n",
        "    for i in range(0, n_pop, 2):\n",
        "      # get selected parents in pairs\n",
        "      p1, p2 = selected[i], selected[i+1]\n",
        "      # crossover and mutation\n",
        "      for c in crossover(p1, p2, r_cross):\n",
        "        # mutation\n",
        "        mutation(c, r_mut)\n",
        "        # store for next generation\n",
        "        children.append(c)\n",
        "    # replace population\n",
        "    pop = children\n",
        "  return [best, best_eval]\n",
        " \n",
        "# define the total iterations\n",
        "n_iter = 100\n",
        "# bits\n",
        "n_bits = 20\n",
        "# define the population size\n",
        "n_pop = 100\n",
        "# crossover rate\n",
        "r_cross = 0.9\n",
        "# mutation rate\n",
        "r_mut = 1.0 / float(n_bits)\n",
        "# perform the genetic algorithm search\n",
        "best, score = genetic_algorithm(onemax, n_bits, n_iter, n_pop, r_cross, r_mut)\n",
        "print('Done!')\n",
        "print('f(%s) = %f' % (best, score))\n"
      ],
      "execution_count": 1,
      "outputs": [
        {
          "output_type": "stream",
          "text": [
            ">0, new best f([0, 1, 1, 0, 1, 1, 0, 1, 0, 1, 0, 1, 1, 1, 1, 1, 1, 0, 1, 0]) = -13.000\n",
            ">0, new best f([0, 1, 1, 1, 0, 1, 0, 1, 0, 1, 1, 0, 1, 1, 0, 1, 1, 1, 1, 1]) = -14.000\n",
            ">0, new best f([1, 1, 1, 1, 0, 1, 1, 1, 1, 1, 0, 1, 1, 1, 1, 1, 0, 1, 0, 0]) = -15.000\n",
            ">0, new best f([0, 1, 1, 1, 1, 1, 1, 1, 1, 1, 0, 1, 1, 1, 1, 0, 1, 1, 1, 0]) = -16.000\n",
            ">1, new best f([1, 1, 1, 1, 0, 1, 1, 1, 1, 1, 0, 0, 1, 1, 1, 1, 1, 1, 1, 1]) = -17.000\n",
            ">3, new best f([1, 1, 1, 1, 0, 1, 1, 1, 1, 1, 1, 0, 1, 1, 1, 1, 1, 1, 1, 1]) = -18.000\n",
            ">5, new best f([1, 1, 1, 1, 1, 1, 1, 1, 1, 0, 1, 1, 1, 1, 1, 1, 1, 1, 1, 1]) = -19.000\n",
            ">6, new best f([1, 1, 1, 1, 1, 1, 1, 1, 1, 1, 1, 1, 1, 1, 1, 1, 1, 1, 1, 1]) = -20.000\n",
            "Done!\n",
            "f([1, 1, 1, 1, 1, 1, 1, 1, 1, 1, 1, 1, 1, 1, 1, 1, 1, 1, 1, 1]) = -20.000000\n"
          ],
          "name": "stdout"
        }
      ]
    }
  ]
}
