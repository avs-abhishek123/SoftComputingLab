{
  "nbformat": 4,
  "nbformat_minor": 0,
  "metadata": {
    "colab": {
      "name": "EXP_5_Logistic_Regression_Classifier_VDSS09_Abhishek.ipynb",
      "provenance": [],
      "collapsed_sections": []
    },
    "kernelspec": {
      "name": "python3",
      "display_name": "Python 3"
    },
    "language_info": {
      "name": "python"
    },
    "widgets": {
      "application/vnd.jupyter.widget-state+json": {
        "b81ab2c2426343c2be99a1af685bbb57": {
          "model_module": "@jupyter-widgets/controls",
          "model_name": "HBoxModel",
          "state": {
            "_view_name": "HBoxView",
            "_dom_classes": [],
            "_model_name": "HBoxModel",
            "_view_module": "@jupyter-widgets/controls",
            "_model_module_version": "1.5.0",
            "_view_count": null,
            "_view_module_version": "1.5.0",
            "box_style": "",
            "layout": "IPY_MODEL_73879f9401db4f85a58e08671196cd5a",
            "_model_module": "@jupyter-widgets/controls",
            "children": [
              "IPY_MODEL_fd34f2ec540e433aaa966945728a0b7b",
              "IPY_MODEL_c67fd8cb1754420686730f5f7a5b5899"
            ]
          }
        },
        "73879f9401db4f85a58e08671196cd5a": {
          "model_module": "@jupyter-widgets/base",
          "model_name": "LayoutModel",
          "state": {
            "_view_name": "LayoutView",
            "grid_template_rows": null,
            "right": null,
            "justify_content": null,
            "_view_module": "@jupyter-widgets/base",
            "overflow": null,
            "_model_module_version": "1.2.0",
            "_view_count": null,
            "flex_flow": null,
            "width": null,
            "min_width": null,
            "border": null,
            "align_items": null,
            "bottom": null,
            "_model_module": "@jupyter-widgets/base",
            "top": null,
            "grid_column": null,
            "overflow_y": null,
            "overflow_x": null,
            "grid_auto_flow": null,
            "grid_area": null,
            "grid_template_columns": null,
            "flex": null,
            "_model_name": "LayoutModel",
            "justify_items": null,
            "grid_row": null,
            "max_height": null,
            "align_content": null,
            "visibility": null,
            "align_self": null,
            "height": null,
            "min_height": null,
            "padding": null,
            "grid_auto_rows": null,
            "grid_gap": null,
            "max_width": null,
            "order": null,
            "_view_module_version": "1.2.0",
            "grid_template_areas": null,
            "object_position": null,
            "object_fit": null,
            "grid_auto_columns": null,
            "margin": null,
            "display": null,
            "left": null
          }
        },
        "fd34f2ec540e433aaa966945728a0b7b": {
          "model_module": "@jupyter-widgets/controls",
          "model_name": "FloatProgressModel",
          "state": {
            "_view_name": "ProgressView",
            "style": "IPY_MODEL_8d91f018494f46a193cea9bceaf6fba4",
            "_dom_classes": [],
            "description": "Dl Completed...: 100%",
            "_model_name": "FloatProgressModel",
            "bar_style": "success",
            "max": 1,
            "_view_module": "@jupyter-widgets/controls",
            "_model_module_version": "1.5.0",
            "value": 1,
            "_view_count": null,
            "_view_module_version": "1.5.0",
            "orientation": "horizontal",
            "min": 0,
            "description_tooltip": null,
            "_model_module": "@jupyter-widgets/controls",
            "layout": "IPY_MODEL_151348d3dd5748969b8c9864b2e50cd0"
          }
        },
        "c67fd8cb1754420686730f5f7a5b5899": {
          "model_module": "@jupyter-widgets/controls",
          "model_name": "HTMLModel",
          "state": {
            "_view_name": "HTMLView",
            "style": "IPY_MODEL_0d68e28999af4ca89d9aaf0db00218fb",
            "_dom_classes": [],
            "description": "",
            "_model_name": "HTMLModel",
            "placeholder": "​",
            "_view_module": "@jupyter-widgets/controls",
            "_model_module_version": "1.5.0",
            "value": " 1/1 [00:00&lt;00:00,  2.26 url/s]",
            "_view_count": null,
            "_view_module_version": "1.5.0",
            "description_tooltip": null,
            "_model_module": "@jupyter-widgets/controls",
            "layout": "IPY_MODEL_7f05dcc4e9d94bb496568dbb60ce585e"
          }
        },
        "8d91f018494f46a193cea9bceaf6fba4": {
          "model_module": "@jupyter-widgets/controls",
          "model_name": "ProgressStyleModel",
          "state": {
            "_view_name": "StyleView",
            "_model_name": "ProgressStyleModel",
            "description_width": "initial",
            "_view_module": "@jupyter-widgets/base",
            "_model_module_version": "1.5.0",
            "_view_count": null,
            "_view_module_version": "1.2.0",
            "bar_color": null,
            "_model_module": "@jupyter-widgets/controls"
          }
        },
        "151348d3dd5748969b8c9864b2e50cd0": {
          "model_module": "@jupyter-widgets/base",
          "model_name": "LayoutModel",
          "state": {
            "_view_name": "LayoutView",
            "grid_template_rows": null,
            "right": null,
            "justify_content": null,
            "_view_module": "@jupyter-widgets/base",
            "overflow": null,
            "_model_module_version": "1.2.0",
            "_view_count": null,
            "flex_flow": null,
            "width": null,
            "min_width": null,
            "border": null,
            "align_items": null,
            "bottom": null,
            "_model_module": "@jupyter-widgets/base",
            "top": null,
            "grid_column": null,
            "overflow_y": null,
            "overflow_x": null,
            "grid_auto_flow": null,
            "grid_area": null,
            "grid_template_columns": null,
            "flex": null,
            "_model_name": "LayoutModel",
            "justify_items": null,
            "grid_row": null,
            "max_height": null,
            "align_content": null,
            "visibility": null,
            "align_self": null,
            "height": null,
            "min_height": null,
            "padding": null,
            "grid_auto_rows": null,
            "grid_gap": null,
            "max_width": null,
            "order": null,
            "_view_module_version": "1.2.0",
            "grid_template_areas": null,
            "object_position": null,
            "object_fit": null,
            "grid_auto_columns": null,
            "margin": null,
            "display": null,
            "left": null
          }
        },
        "0d68e28999af4ca89d9aaf0db00218fb": {
          "model_module": "@jupyter-widgets/controls",
          "model_name": "DescriptionStyleModel",
          "state": {
            "_view_name": "StyleView",
            "_model_name": "DescriptionStyleModel",
            "description_width": "",
            "_view_module": "@jupyter-widgets/base",
            "_model_module_version": "1.5.0",
            "_view_count": null,
            "_view_module_version": "1.2.0",
            "_model_module": "@jupyter-widgets/controls"
          }
        },
        "7f05dcc4e9d94bb496568dbb60ce585e": {
          "model_module": "@jupyter-widgets/base",
          "model_name": "LayoutModel",
          "state": {
            "_view_name": "LayoutView",
            "grid_template_rows": null,
            "right": null,
            "justify_content": null,
            "_view_module": "@jupyter-widgets/base",
            "overflow": null,
            "_model_module_version": "1.2.0",
            "_view_count": null,
            "flex_flow": null,
            "width": null,
            "min_width": null,
            "border": null,
            "align_items": null,
            "bottom": null,
            "_model_module": "@jupyter-widgets/base",
            "top": null,
            "grid_column": null,
            "overflow_y": null,
            "overflow_x": null,
            "grid_auto_flow": null,
            "grid_area": null,
            "grid_template_columns": null,
            "flex": null,
            "_model_name": "LayoutModel",
            "justify_items": null,
            "grid_row": null,
            "max_height": null,
            "align_content": null,
            "visibility": null,
            "align_self": null,
            "height": null,
            "min_height": null,
            "padding": null,
            "grid_auto_rows": null,
            "grid_gap": null,
            "max_width": null,
            "order": null,
            "_view_module_version": "1.2.0",
            "grid_template_areas": null,
            "object_position": null,
            "object_fit": null,
            "grid_auto_columns": null,
            "margin": null,
            "display": null,
            "left": null
          }
        },
        "4f18d0f408444efd92f2b3e5730b750e": {
          "model_module": "@jupyter-widgets/controls",
          "model_name": "HBoxModel",
          "state": {
            "_view_name": "HBoxView",
            "_dom_classes": [],
            "_model_name": "HBoxModel",
            "_view_module": "@jupyter-widgets/controls",
            "_model_module_version": "1.5.0",
            "_view_count": null,
            "_view_module_version": "1.5.0",
            "box_style": "",
            "layout": "IPY_MODEL_ad062890026842e7a4e710efc7133299",
            "_model_module": "@jupyter-widgets/controls",
            "children": [
              "IPY_MODEL_a7ea59ad9c594f08ace59152264597dd",
              "IPY_MODEL_ccd05a138f50403abb75cee4c520c7d5"
            ]
          }
        },
        "ad062890026842e7a4e710efc7133299": {
          "model_module": "@jupyter-widgets/base",
          "model_name": "LayoutModel",
          "state": {
            "_view_name": "LayoutView",
            "grid_template_rows": null,
            "right": null,
            "justify_content": null,
            "_view_module": "@jupyter-widgets/base",
            "overflow": null,
            "_model_module_version": "1.2.0",
            "_view_count": null,
            "flex_flow": null,
            "width": null,
            "min_width": null,
            "border": null,
            "align_items": null,
            "bottom": null,
            "_model_module": "@jupyter-widgets/base",
            "top": null,
            "grid_column": null,
            "overflow_y": null,
            "overflow_x": null,
            "grid_auto_flow": null,
            "grid_area": null,
            "grid_template_columns": null,
            "flex": null,
            "_model_name": "LayoutModel",
            "justify_items": null,
            "grid_row": null,
            "max_height": null,
            "align_content": null,
            "visibility": null,
            "align_self": null,
            "height": null,
            "min_height": null,
            "padding": null,
            "grid_auto_rows": null,
            "grid_gap": null,
            "max_width": null,
            "order": null,
            "_view_module_version": "1.2.0",
            "grid_template_areas": null,
            "object_position": null,
            "object_fit": null,
            "grid_auto_columns": null,
            "margin": null,
            "display": null,
            "left": null
          }
        },
        "a7ea59ad9c594f08ace59152264597dd": {
          "model_module": "@jupyter-widgets/controls",
          "model_name": "FloatProgressModel",
          "state": {
            "_view_name": "ProgressView",
            "style": "IPY_MODEL_4a90be168b9d42e7892937ab021913d8",
            "_dom_classes": [],
            "description": "Dl Size...: ",
            "_model_name": "FloatProgressModel",
            "bar_style": "success",
            "max": 1,
            "_view_module": "@jupyter-widgets/controls",
            "_model_module_version": "1.5.0",
            "value": 0,
            "_view_count": null,
            "_view_module_version": "1.5.0",
            "orientation": "horizontal",
            "min": 0,
            "description_tooltip": null,
            "_model_module": "@jupyter-widgets/controls",
            "layout": "IPY_MODEL_35b767fcadb04e6c9c8848442df2d964"
          }
        },
        "ccd05a138f50403abb75cee4c520c7d5": {
          "model_module": "@jupyter-widgets/controls",
          "model_name": "HTMLModel",
          "state": {
            "_view_name": "HTMLView",
            "style": "IPY_MODEL_1f7a37715abe470d85a25ef2c5caeaa1",
            "_dom_classes": [],
            "description": "",
            "_model_name": "HTMLModel",
            "placeholder": "​",
            "_view_module": "@jupyter-widgets/controls",
            "_model_module_version": "1.5.0",
            "value": " 0/0 [00:00&lt;?, ? MiB/s]",
            "_view_count": null,
            "_view_module_version": "1.5.0",
            "description_tooltip": null,
            "_model_module": "@jupyter-widgets/controls",
            "layout": "IPY_MODEL_b2cc738ea18f4f23bbda3ac7db040361"
          }
        },
        "4a90be168b9d42e7892937ab021913d8": {
          "model_module": "@jupyter-widgets/controls",
          "model_name": "ProgressStyleModel",
          "state": {
            "_view_name": "StyleView",
            "_model_name": "ProgressStyleModel",
            "description_width": "initial",
            "_view_module": "@jupyter-widgets/base",
            "_model_module_version": "1.5.0",
            "_view_count": null,
            "_view_module_version": "1.2.0",
            "bar_color": null,
            "_model_module": "@jupyter-widgets/controls"
          }
        },
        "35b767fcadb04e6c9c8848442df2d964": {
          "model_module": "@jupyter-widgets/base",
          "model_name": "LayoutModel",
          "state": {
            "_view_name": "LayoutView",
            "grid_template_rows": null,
            "right": null,
            "justify_content": null,
            "_view_module": "@jupyter-widgets/base",
            "overflow": null,
            "_model_module_version": "1.2.0",
            "_view_count": null,
            "flex_flow": null,
            "width": null,
            "min_width": null,
            "border": null,
            "align_items": null,
            "bottom": null,
            "_model_module": "@jupyter-widgets/base",
            "top": null,
            "grid_column": null,
            "overflow_y": null,
            "overflow_x": null,
            "grid_auto_flow": null,
            "grid_area": null,
            "grid_template_columns": null,
            "flex": null,
            "_model_name": "LayoutModel",
            "justify_items": null,
            "grid_row": null,
            "max_height": null,
            "align_content": null,
            "visibility": null,
            "align_self": null,
            "height": null,
            "min_height": null,
            "padding": null,
            "grid_auto_rows": null,
            "grid_gap": null,
            "max_width": null,
            "order": null,
            "_view_module_version": "1.2.0",
            "grid_template_areas": null,
            "object_position": null,
            "object_fit": null,
            "grid_auto_columns": null,
            "margin": null,
            "display": null,
            "left": null
          }
        },
        "1f7a37715abe470d85a25ef2c5caeaa1": {
          "model_module": "@jupyter-widgets/controls",
          "model_name": "DescriptionStyleModel",
          "state": {
            "_view_name": "StyleView",
            "_model_name": "DescriptionStyleModel",
            "description_width": "",
            "_view_module": "@jupyter-widgets/base",
            "_model_module_version": "1.5.0",
            "_view_count": null,
            "_view_module_version": "1.2.0",
            "_model_module": "@jupyter-widgets/controls"
          }
        },
        "b2cc738ea18f4f23bbda3ac7db040361": {
          "model_module": "@jupyter-widgets/base",
          "model_name": "LayoutModel",
          "state": {
            "_view_name": "LayoutView",
            "grid_template_rows": null,
            "right": null,
            "justify_content": null,
            "_view_module": "@jupyter-widgets/base",
            "overflow": null,
            "_model_module_version": "1.2.0",
            "_view_count": null,
            "flex_flow": null,
            "width": null,
            "min_width": null,
            "border": null,
            "align_items": null,
            "bottom": null,
            "_model_module": "@jupyter-widgets/base",
            "top": null,
            "grid_column": null,
            "overflow_y": null,
            "overflow_x": null,
            "grid_auto_flow": null,
            "grid_area": null,
            "grid_template_columns": null,
            "flex": null,
            "_model_name": "LayoutModel",
            "justify_items": null,
            "grid_row": null,
            "max_height": null,
            "align_content": null,
            "visibility": null,
            "align_self": null,
            "height": null,
            "min_height": null,
            "padding": null,
            "grid_auto_rows": null,
            "grid_gap": null,
            "max_width": null,
            "order": null,
            "_view_module_version": "1.2.0",
            "grid_template_areas": null,
            "object_position": null,
            "object_fit": null,
            "grid_auto_columns": null,
            "margin": null,
            "display": null,
            "left": null
          }
        },
        "48fd2fd7211c4c10a9536f6fed3ba552": {
          "model_module": "@jupyter-widgets/controls",
          "model_name": "HBoxModel",
          "state": {
            "_view_name": "HBoxView",
            "_dom_classes": [],
            "_model_name": "HBoxModel",
            "_view_module": "@jupyter-widgets/controls",
            "_model_module_version": "1.5.0",
            "_view_count": null,
            "_view_module_version": "1.5.0",
            "box_style": "",
            "layout": "IPY_MODEL_9a2951cb901c4bd0826dd24239ca2500",
            "_model_module": "@jupyter-widgets/controls",
            "children": [
              "IPY_MODEL_146eb18f49ff4d8cb172980fdce9bf1f",
              "IPY_MODEL_fe257f91e3c549b1b9855b4c88e3a24b"
            ]
          }
        },
        "9a2951cb901c4bd0826dd24239ca2500": {
          "model_module": "@jupyter-widgets/base",
          "model_name": "LayoutModel",
          "state": {
            "_view_name": "LayoutView",
            "grid_template_rows": null,
            "right": null,
            "justify_content": null,
            "_view_module": "@jupyter-widgets/base",
            "overflow": null,
            "_model_module_version": "1.2.0",
            "_view_count": null,
            "flex_flow": null,
            "width": null,
            "min_width": null,
            "border": null,
            "align_items": null,
            "bottom": null,
            "_model_module": "@jupyter-widgets/base",
            "top": null,
            "grid_column": null,
            "overflow_y": null,
            "overflow_x": null,
            "grid_auto_flow": null,
            "grid_area": null,
            "grid_template_columns": null,
            "flex": null,
            "_model_name": "LayoutModel",
            "justify_items": null,
            "grid_row": null,
            "max_height": null,
            "align_content": null,
            "visibility": null,
            "align_self": null,
            "height": null,
            "min_height": null,
            "padding": null,
            "grid_auto_rows": null,
            "grid_gap": null,
            "max_width": null,
            "order": null,
            "_view_module_version": "1.2.0",
            "grid_template_areas": null,
            "object_position": null,
            "object_fit": null,
            "grid_auto_columns": null,
            "margin": null,
            "display": null,
            "left": null
          }
        },
        "146eb18f49ff4d8cb172980fdce9bf1f": {
          "model_module": "@jupyter-widgets/controls",
          "model_name": "FloatProgressModel",
          "state": {
            "_view_name": "ProgressView",
            "style": "IPY_MODEL_0b1cbd36a5b249ee90808ff222f19c7a",
            "_dom_classes": [],
            "description": "",
            "_model_name": "FloatProgressModel",
            "bar_style": "info",
            "max": 1,
            "_view_module": "@jupyter-widgets/controls",
            "_model_module_version": "1.5.0",
            "value": 1,
            "_view_count": null,
            "_view_module_version": "1.5.0",
            "orientation": "horizontal",
            "min": 0,
            "description_tooltip": null,
            "_model_module": "@jupyter-widgets/controls",
            "layout": "IPY_MODEL_152287f5caa84c9391bd99ec8cbca41d"
          }
        },
        "fe257f91e3c549b1b9855b4c88e3a24b": {
          "model_module": "@jupyter-widgets/controls",
          "model_name": "HTMLModel",
          "state": {
            "_view_name": "HTMLView",
            "style": "IPY_MODEL_b6f1431a326642cb90cdd4c95ff61927",
            "_dom_classes": [],
            "description": "",
            "_model_name": "HTMLModel",
            "placeholder": "​",
            "_view_module": "@jupyter-widgets/controls",
            "_model_module_version": "1.5.0",
            "value": " 150/0 [00:00&lt;00:00, 1499.29 examples/s]",
            "_view_count": null,
            "_view_module_version": "1.5.0",
            "description_tooltip": null,
            "_model_module": "@jupyter-widgets/controls",
            "layout": "IPY_MODEL_56f8f35abaac401dab1ee7ac0551337f"
          }
        },
        "0b1cbd36a5b249ee90808ff222f19c7a": {
          "model_module": "@jupyter-widgets/controls",
          "model_name": "ProgressStyleModel",
          "state": {
            "_view_name": "StyleView",
            "_model_name": "ProgressStyleModel",
            "description_width": "initial",
            "_view_module": "@jupyter-widgets/base",
            "_model_module_version": "1.5.0",
            "_view_count": null,
            "_view_module_version": "1.2.0",
            "bar_color": null,
            "_model_module": "@jupyter-widgets/controls"
          }
        },
        "152287f5caa84c9391bd99ec8cbca41d": {
          "model_module": "@jupyter-widgets/base",
          "model_name": "LayoutModel",
          "state": {
            "_view_name": "LayoutView",
            "grid_template_rows": null,
            "right": null,
            "justify_content": null,
            "_view_module": "@jupyter-widgets/base",
            "overflow": null,
            "_model_module_version": "1.2.0",
            "_view_count": null,
            "flex_flow": null,
            "width": null,
            "min_width": null,
            "border": null,
            "align_items": null,
            "bottom": null,
            "_model_module": "@jupyter-widgets/base",
            "top": null,
            "grid_column": null,
            "overflow_y": null,
            "overflow_x": null,
            "grid_auto_flow": null,
            "grid_area": null,
            "grid_template_columns": null,
            "flex": null,
            "_model_name": "LayoutModel",
            "justify_items": null,
            "grid_row": null,
            "max_height": null,
            "align_content": null,
            "visibility": null,
            "align_self": null,
            "height": null,
            "min_height": null,
            "padding": null,
            "grid_auto_rows": null,
            "grid_gap": null,
            "max_width": null,
            "order": null,
            "_view_module_version": "1.2.0",
            "grid_template_areas": null,
            "object_position": null,
            "object_fit": null,
            "grid_auto_columns": null,
            "margin": null,
            "display": null,
            "left": null
          }
        },
        "b6f1431a326642cb90cdd4c95ff61927": {
          "model_module": "@jupyter-widgets/controls",
          "model_name": "DescriptionStyleModel",
          "state": {
            "_view_name": "StyleView",
            "_model_name": "DescriptionStyleModel",
            "description_width": "",
            "_view_module": "@jupyter-widgets/base",
            "_model_module_version": "1.5.0",
            "_view_count": null,
            "_view_module_version": "1.2.0",
            "_model_module": "@jupyter-widgets/controls"
          }
        },
        "56f8f35abaac401dab1ee7ac0551337f": {
          "model_module": "@jupyter-widgets/base",
          "model_name": "LayoutModel",
          "state": {
            "_view_name": "LayoutView",
            "grid_template_rows": null,
            "right": null,
            "justify_content": null,
            "_view_module": "@jupyter-widgets/base",
            "overflow": null,
            "_model_module_version": "1.2.0",
            "_view_count": null,
            "flex_flow": null,
            "width": null,
            "min_width": null,
            "border": null,
            "align_items": null,
            "bottom": null,
            "_model_module": "@jupyter-widgets/base",
            "top": null,
            "grid_column": null,
            "overflow_y": null,
            "overflow_x": null,
            "grid_auto_flow": null,
            "grid_area": null,
            "grid_template_columns": null,
            "flex": null,
            "_model_name": "LayoutModel",
            "justify_items": null,
            "grid_row": null,
            "max_height": null,
            "align_content": null,
            "visibility": null,
            "align_self": null,
            "height": null,
            "min_height": null,
            "padding": null,
            "grid_auto_rows": null,
            "grid_gap": null,
            "max_width": null,
            "order": null,
            "_view_module_version": "1.2.0",
            "grid_template_areas": null,
            "object_position": null,
            "object_fit": null,
            "grid_auto_columns": null,
            "margin": null,
            "display": null,
            "left": null
          }
        },
        "ca28bf0b64b74156a9e7b67f0f54476b": {
          "model_module": "@jupyter-widgets/controls",
          "model_name": "HBoxModel",
          "state": {
            "_view_name": "HBoxView",
            "_dom_classes": [],
            "_model_name": "HBoxModel",
            "_view_module": "@jupyter-widgets/controls",
            "_model_module_version": "1.5.0",
            "_view_count": null,
            "_view_module_version": "1.5.0",
            "box_style": "",
            "layout": "IPY_MODEL_a20c4aa6368340e284fa40046054f01e",
            "_model_module": "@jupyter-widgets/controls",
            "children": [
              "IPY_MODEL_567b3394d51f495c9740e114c13a4242",
              "IPY_MODEL_2feb53e912854d3d9e3a6223f59a0b21"
            ]
          }
        },
        "a20c4aa6368340e284fa40046054f01e": {
          "model_module": "@jupyter-widgets/base",
          "model_name": "LayoutModel",
          "state": {
            "_view_name": "LayoutView",
            "grid_template_rows": null,
            "right": null,
            "justify_content": null,
            "_view_module": "@jupyter-widgets/base",
            "overflow": null,
            "_model_module_version": "1.2.0",
            "_view_count": null,
            "flex_flow": null,
            "width": null,
            "min_width": null,
            "border": null,
            "align_items": null,
            "bottom": null,
            "_model_module": "@jupyter-widgets/base",
            "top": null,
            "grid_column": null,
            "overflow_y": null,
            "overflow_x": null,
            "grid_auto_flow": null,
            "grid_area": null,
            "grid_template_columns": null,
            "flex": null,
            "_model_name": "LayoutModel",
            "justify_items": null,
            "grid_row": null,
            "max_height": null,
            "align_content": null,
            "visibility": null,
            "align_self": null,
            "height": null,
            "min_height": null,
            "padding": null,
            "grid_auto_rows": null,
            "grid_gap": null,
            "max_width": null,
            "order": null,
            "_view_module_version": "1.2.0",
            "grid_template_areas": null,
            "object_position": null,
            "object_fit": null,
            "grid_auto_columns": null,
            "margin": null,
            "display": null,
            "left": null
          }
        },
        "567b3394d51f495c9740e114c13a4242": {
          "model_module": "@jupyter-widgets/controls",
          "model_name": "FloatProgressModel",
          "state": {
            "_view_name": "ProgressView",
            "style": "IPY_MODEL_f00bf0eb9cc04607b7af518c1d4f0956",
            "_dom_classes": [],
            "description": "  0%",
            "_model_name": "FloatProgressModel",
            "bar_style": "danger",
            "max": 150,
            "_view_module": "@jupyter-widgets/controls",
            "_model_module_version": "1.5.0",
            "value": 0,
            "_view_count": null,
            "_view_module_version": "1.5.0",
            "orientation": "horizontal",
            "min": 0,
            "description_tooltip": null,
            "_model_module": "@jupyter-widgets/controls",
            "layout": "IPY_MODEL_b42d333a15f840e39c6a2979870b8dd8"
          }
        },
        "2feb53e912854d3d9e3a6223f59a0b21": {
          "model_module": "@jupyter-widgets/controls",
          "model_name": "HTMLModel",
          "state": {
            "_view_name": "HTMLView",
            "style": "IPY_MODEL_5128b28db2e9490faa147b562f2e900a",
            "_dom_classes": [],
            "description": "",
            "_model_name": "HTMLModel",
            "placeholder": "​",
            "_view_module": "@jupyter-widgets/controls",
            "_model_module_version": "1.5.0",
            "value": " 0/150 [00:00&lt;?, ? examples/s]",
            "_view_count": null,
            "_view_module_version": "1.5.0",
            "description_tooltip": null,
            "_model_module": "@jupyter-widgets/controls",
            "layout": "IPY_MODEL_ea93afc9a2184219a968ea142dfa13cc"
          }
        },
        "f00bf0eb9cc04607b7af518c1d4f0956": {
          "model_module": "@jupyter-widgets/controls",
          "model_name": "ProgressStyleModel",
          "state": {
            "_view_name": "StyleView",
            "_model_name": "ProgressStyleModel",
            "description_width": "initial",
            "_view_module": "@jupyter-widgets/base",
            "_model_module_version": "1.5.0",
            "_view_count": null,
            "_view_module_version": "1.2.0",
            "bar_color": null,
            "_model_module": "@jupyter-widgets/controls"
          }
        },
        "b42d333a15f840e39c6a2979870b8dd8": {
          "model_module": "@jupyter-widgets/base",
          "model_name": "LayoutModel",
          "state": {
            "_view_name": "LayoutView",
            "grid_template_rows": null,
            "right": null,
            "justify_content": null,
            "_view_module": "@jupyter-widgets/base",
            "overflow": null,
            "_model_module_version": "1.2.0",
            "_view_count": null,
            "flex_flow": null,
            "width": null,
            "min_width": null,
            "border": null,
            "align_items": null,
            "bottom": null,
            "_model_module": "@jupyter-widgets/base",
            "top": null,
            "grid_column": null,
            "overflow_y": null,
            "overflow_x": null,
            "grid_auto_flow": null,
            "grid_area": null,
            "grid_template_columns": null,
            "flex": null,
            "_model_name": "LayoutModel",
            "justify_items": null,
            "grid_row": null,
            "max_height": null,
            "align_content": null,
            "visibility": null,
            "align_self": null,
            "height": null,
            "min_height": null,
            "padding": null,
            "grid_auto_rows": null,
            "grid_gap": null,
            "max_width": null,
            "order": null,
            "_view_module_version": "1.2.0",
            "grid_template_areas": null,
            "object_position": null,
            "object_fit": null,
            "grid_auto_columns": null,
            "margin": null,
            "display": null,
            "left": null
          }
        },
        "5128b28db2e9490faa147b562f2e900a": {
          "model_module": "@jupyter-widgets/controls",
          "model_name": "DescriptionStyleModel",
          "state": {
            "_view_name": "StyleView",
            "_model_name": "DescriptionStyleModel",
            "description_width": "",
            "_view_module": "@jupyter-widgets/base",
            "_model_module_version": "1.5.0",
            "_view_count": null,
            "_view_module_version": "1.2.0",
            "_model_module": "@jupyter-widgets/controls"
          }
        },
        "ea93afc9a2184219a968ea142dfa13cc": {
          "model_module": "@jupyter-widgets/base",
          "model_name": "LayoutModel",
          "state": {
            "_view_name": "LayoutView",
            "grid_template_rows": null,
            "right": null,
            "justify_content": null,
            "_view_module": "@jupyter-widgets/base",
            "overflow": null,
            "_model_module_version": "1.2.0",
            "_view_count": null,
            "flex_flow": null,
            "width": null,
            "min_width": null,
            "border": null,
            "align_items": null,
            "bottom": null,
            "_model_module": "@jupyter-widgets/base",
            "top": null,
            "grid_column": null,
            "overflow_y": null,
            "overflow_x": null,
            "grid_auto_flow": null,
            "grid_area": null,
            "grid_template_columns": null,
            "flex": null,
            "_model_name": "LayoutModel",
            "justify_items": null,
            "grid_row": null,
            "max_height": null,
            "align_content": null,
            "visibility": null,
            "align_self": null,
            "height": null,
            "min_height": null,
            "padding": null,
            "grid_auto_rows": null,
            "grid_gap": null,
            "max_width": null,
            "order": null,
            "_view_module_version": "1.2.0",
            "grid_template_areas": null,
            "object_position": null,
            "object_fit": null,
            "grid_auto_columns": null,
            "margin": null,
            "display": null,
            "left": null
          }
        }
      }
    }
  },
  "cells": [
    {
      "cell_type": "markdown",
      "metadata": {
        "id": "vnA3tRefyg8y"
      },
      "source": [
        "**EXP-5 (Build Logistic Regression Classifier using Neural Networks)**<br> by  Allena Venkata Sai Abhishek (122021601009) "
      ]
    },
    {
      "cell_type": "code",
      "metadata": {
        "id": "eZ0tv68kFIVz"
      },
      "source": [
        "import tensorflow_datasets as tfds\n",
        "import tensorflow as tf\n",
        "import numpy as np"
      ],
      "execution_count": null,
      "outputs": []
    },
    {
      "cell_type": "code",
      "metadata": {
        "id": "2HPjn63SGJ3P",
        "colab": {
          "base_uri": "https://localhost:8080/",
          "height": 260,
          "referenced_widgets": [
            "b81ab2c2426343c2be99a1af685bbb57",
            "73879f9401db4f85a58e08671196cd5a",
            "fd34f2ec540e433aaa966945728a0b7b",
            "c67fd8cb1754420686730f5f7a5b5899",
            "8d91f018494f46a193cea9bceaf6fba4",
            "151348d3dd5748969b8c9864b2e50cd0",
            "0d68e28999af4ca89d9aaf0db00218fb",
            "7f05dcc4e9d94bb496568dbb60ce585e",
            "4f18d0f408444efd92f2b3e5730b750e",
            "ad062890026842e7a4e710efc7133299",
            "a7ea59ad9c594f08ace59152264597dd",
            "ccd05a138f50403abb75cee4c520c7d5",
            "4a90be168b9d42e7892937ab021913d8",
            "35b767fcadb04e6c9c8848442df2d964",
            "1f7a37715abe470d85a25ef2c5caeaa1",
            "b2cc738ea18f4f23bbda3ac7db040361",
            "48fd2fd7211c4c10a9536f6fed3ba552",
            "9a2951cb901c4bd0826dd24239ca2500",
            "146eb18f49ff4d8cb172980fdce9bf1f",
            "fe257f91e3c549b1b9855b4c88e3a24b",
            "0b1cbd36a5b249ee90808ff222f19c7a",
            "152287f5caa84c9391bd99ec8cbca41d",
            "b6f1431a326642cb90cdd4c95ff61927",
            "56f8f35abaac401dab1ee7ac0551337f",
            "ca28bf0b64b74156a9e7b67f0f54476b",
            "a20c4aa6368340e284fa40046054f01e",
            "567b3394d51f495c9740e114c13a4242",
            "2feb53e912854d3d9e3a6223f59a0b21",
            "f00bf0eb9cc04607b7af518c1d4f0956",
            "b42d333a15f840e39c6a2979870b8dd8",
            "5128b28db2e9490faa147b562f2e900a",
            "ea93afc9a2184219a968ea142dfa13cc"
          ]
        },
        "outputId": "3fecb38f-9c46-4123-ea26-f2fc6ac330fc"
      },
      "source": [
        "#importing the data in to X & y \n",
        "#since this is a very small dataset only train set is present \n",
        "X, y  = tfds.as_numpy(tfds.load('iris',split='train',batch_size=-1,as_supervised=True,))"
      ],
      "execution_count": null,
      "outputs": [
        {
          "output_type": "stream",
          "text": [
            "\u001b[1mDownloading and preparing dataset iris/2.0.0 (download: 4.44 KiB, generated: Unknown size, total: 4.44 KiB) to /root/tensorflow_datasets/iris/2.0.0...\u001b[0m\n"
          ],
          "name": "stdout"
        },
        {
          "output_type": "display_data",
          "data": {
            "application/vnd.jupyter.widget-view+json": {
              "model_id": "b81ab2c2426343c2be99a1af685bbb57",
              "version_minor": 0,
              "version_major": 2
            },
            "text/plain": [
              "HBox(children=(FloatProgress(value=1.0, bar_style='info', description='Dl Completed...', max=1.0, style=Progre…"
            ]
          },
          "metadata": {
            "tags": []
          }
        },
        {
          "output_type": "display_data",
          "data": {
            "application/vnd.jupyter.widget-view+json": {
              "model_id": "4f18d0f408444efd92f2b3e5730b750e",
              "version_minor": 0,
              "version_major": 2
            },
            "text/plain": [
              "HBox(children=(FloatProgress(value=1.0, bar_style='info', description='Dl Size...', max=1.0, style=ProgressSty…"
            ]
          },
          "metadata": {
            "tags": []
          }
        },
        {
          "output_type": "stream",
          "text": [
            "\n",
            "\n",
            "\n",
            "\n"
          ],
          "name": "stdout"
        },
        {
          "output_type": "display_data",
          "data": {
            "application/vnd.jupyter.widget-view+json": {
              "model_id": "48fd2fd7211c4c10a9536f6fed3ba552",
              "version_minor": 0,
              "version_major": 2
            },
            "text/plain": [
              "HBox(children=(FloatProgress(value=1.0, bar_style='info', max=1.0), HTML(value='')))"
            ]
          },
          "metadata": {
            "tags": []
          }
        },
        {
          "output_type": "stream",
          "text": [
            "\rShuffling and writing examples to /root/tensorflow_datasets/iris/2.0.0.incomplete1Z0H0F/iris-train.tfrecord\n"
          ],
          "name": "stdout"
        },
        {
          "output_type": "display_data",
          "data": {
            "application/vnd.jupyter.widget-view+json": {
              "model_id": "ca28bf0b64b74156a9e7b67f0f54476b",
              "version_minor": 0,
              "version_major": 2
            },
            "text/plain": [
              "HBox(children=(FloatProgress(value=0.0, max=150.0), HTML(value='')))"
            ]
          },
          "metadata": {
            "tags": []
          }
        },
        {
          "output_type": "stream",
          "text": [
            "\r\u001b[1mDataset iris downloaded and prepared to /root/tensorflow_datasets/iris/2.0.0. Subsequent calls will reuse this data.\u001b[0m\n"
          ],
          "name": "stdout"
        }
      ]
    },
    {
      "cell_type": "code",
      "metadata": {
        "colab": {
          "base_uri": "https://localhost:8080/"
        },
        "id": "R1sKxrdi7SZy",
        "outputId": "e2424269-e523-40d1-b0de-5b4782e26abd"
      },
      "source": [
        "#printing the top values of the feature variable\n",
        "X"
      ],
      "execution_count": null,
      "outputs": [
        {
          "output_type": "execute_result",
          "data": {
            "text/plain": [
              "array([[5.1, 3.4, 1.5, 0.2],\n",
              "       [7.7, 3. , 6.1, 2.3],\n",
              "       [5.7, 2.8, 4.5, 1.3],\n",
              "       [6.8, 3.2, 5.9, 2.3],\n",
              "       [5.2, 3.4, 1.4, 0.2],\n",
              "       [5.6, 2.9, 3.6, 1.3],\n",
              "       [5.5, 2.6, 4.4, 1.2],\n",
              "       [5.5, 2.4, 3.7, 1. ],\n",
              "       [4.6, 3.4, 1.4, 0.3],\n",
              "       [7.7, 2.8, 6.7, 2. ],\n",
              "       [7. , 3.2, 4.7, 1.4],\n",
              "       [4.6, 3.2, 1.4, 0.2],\n",
              "       [6.5, 3. , 5.2, 2. ],\n",
              "       [5.5, 4.2, 1.4, 0.2],\n",
              "       [5.4, 3.9, 1.3, 0.4],\n",
              "       [5. , 3.5, 1.3, 0.3],\n",
              "       [5.1, 3.8, 1.5, 0.3],\n",
              "       [4.8, 3. , 1.4, 0.1],\n",
              "       [6.5, 3. , 5.8, 2.2],\n",
              "       [7.6, 3. , 6.6, 2.1],\n",
              "       [6.7, 3.3, 5.7, 2.1],\n",
              "       [7.9, 3.8, 6.4, 2. ],\n",
              "       [6.7, 3. , 5.2, 2.3],\n",
              "       [5.8, 4. , 1.2, 0.2],\n",
              "       [6.3, 2.5, 5. , 1.9],\n",
              "       [5. , 3. , 1.6, 0.2],\n",
              "       [6.9, 3.1, 5.1, 2.3],\n",
              "       [6.1, 3. , 4.6, 1.4],\n",
              "       [5.8, 2.7, 4.1, 1. ],\n",
              "       [5.2, 2.7, 3.9, 1.4],\n",
              "       [6.7, 3. , 5. , 1.7],\n",
              "       [5.7, 2.6, 3.5, 1. ],\n",
              "       [5.8, 2.8, 5.1, 2.4],\n",
              "       [6.5, 3.2, 5.1, 2. ],\n",
              "       [5.7, 3.8, 1.7, 0.3],\n",
              "       [5.4, 3.9, 1.7, 0.4],\n",
              "       [5.2, 3.5, 1.5, 0.2],\n",
              "       [4.9, 3.1, 1.5, 0.1],\n",
              "       [5.6, 2.7, 4.2, 1.3],\n",
              "       [5. , 3.4, 1.6, 0.4],\n",
              "       [5.3, 3.7, 1.5, 0.2],\n",
              "       [6.6, 2.9, 4.6, 1.3],\n",
              "       [5.5, 3.5, 1.3, 0.2],\n",
              "       [6.7, 3.1, 4.4, 1.4],\n",
              "       [4.3, 3. , 1.1, 0.1],\n",
              "       [6.4, 3.1, 5.5, 1.8],\n",
              "       [5. , 3.2, 1.2, 0.2],\n",
              "       [5.7, 4.4, 1.5, 0.4],\n",
              "       [6. , 2.2, 4. , 1. ],\n",
              "       [6.1, 2.6, 5.6, 1.4],\n",
              "       [6.3, 2.3, 4.4, 1.3],\n",
              "       [5.2, 4.1, 1.5, 0.1],\n",
              "       [5. , 3.3, 1.4, 0.2],\n",
              "       [6.8, 2.8, 4.8, 1.4],\n",
              "       [5.4, 3.4, 1.5, 0.4],\n",
              "       [6.1, 2.8, 4.7, 1.2],\n",
              "       [5.6, 3. , 4.1, 1.3],\n",
              "       [6.4, 2.9, 4.3, 1.3],\n",
              "       [6.4, 2.8, 5.6, 2.1],\n",
              "       [5.1, 3.7, 1.5, 0.4],\n",
              "       [4.8, 3. , 1.4, 0.3],\n",
              "       [6. , 2.9, 4.5, 1.5],\n",
              "       [6. , 3. , 4.8, 1.8],\n",
              "       [5. , 3.6, 1.4, 0.2],\n",
              "       [4.7, 3.2, 1.6, 0.2],\n",
              "       [5.4, 3. , 4.5, 1.5],\n",
              "       [6.9, 3.2, 5.7, 2.3],\n",
              "       [5.8, 2.7, 5.1, 1.9],\n",
              "       [6.1, 2.8, 4. , 1.3],\n",
              "       [6.1, 3. , 4.9, 1.8],\n",
              "       [5.8, 2.7, 5.1, 1.9],\n",
              "       [6.3, 2.7, 4.9, 1.8],\n",
              "       [5.4, 3.7, 1.5, 0.2],\n",
              "       [7.1, 3. , 5.9, 2.1],\n",
              "       [6.5, 2.8, 4.6, 1.5],\n",
              "       [4.6, 3.6, 1. , 0.2],\n",
              "       [5.1, 3.5, 1.4, 0.3],\n",
              "       [5.6, 2.5, 3.9, 1.1],\n",
              "       [5.6, 2.8, 4.9, 2. ],\n",
              "       [6.7, 3.1, 4.7, 1.5],\n",
              "       [5.7, 3. , 4.2, 1.2],\n",
              "       [7.3, 2.9, 6.3, 1.8],\n",
              "       [4.5, 2.3, 1.3, 0.3],\n",
              "       [5.8, 2.7, 3.9, 1.2],\n",
              "       [6.3, 2.9, 5.6, 1.8],\n",
              "       [5.1, 3.5, 1.4, 0.2],\n",
              "       [4.9, 2.5, 4.5, 1.7],\n",
              "       [6.9, 3.1, 4.9, 1.5],\n",
              "       [6. , 2.2, 5. , 1.5],\n",
              "       [5.1, 2.5, 3. , 1.1],\n",
              "       [7.2, 3. , 5.8, 1.6],\n",
              "       [6.2, 2.9, 4.3, 1.3],\n",
              "       [4.4, 2.9, 1.4, 0.2],\n",
              "       [5.7, 2.8, 4.1, 1.3],\n",
              "       [5.7, 2.5, 5. , 2. ],\n",
              "       [5.6, 3. , 4.5, 1.5],\n",
              "       [5.1, 3.3, 1.7, 0.5],\n",
              "       [5.5, 2.3, 4. , 1.3],\n",
              "       [6.3, 3.3, 4.7, 1.6],\n",
              "       [6.3, 2.8, 5.1, 1.5],\n",
              "       [6.3, 3.4, 5.6, 2.4],\n",
              "       [6.5, 3. , 5.5, 1.8],\n",
              "       [4.6, 3.1, 1.5, 0.2],\n",
              "       [7.7, 3.8, 6.7, 2.2],\n",
              "       [5. , 2. , 3.5, 1. ],\n",
              "       [7.2, 3.6, 6.1, 2.5],\n",
              "       [6.4, 3.2, 4.5, 1.5],\n",
              "       [4.9, 3. , 1.4, 0.2],\n",
              "       [5.9, 3. , 4.2, 1.5],\n",
              "       [4.8, 3.1, 1.6, 0.2],\n",
              "       [6.3, 3.3, 6. , 2.5],\n",
              "       [6.4, 2.8, 5.6, 2.2],\n",
              "       [4.8, 3.4, 1.9, 0.2],\n",
              "       [6.7, 2.5, 5.8, 1.8],\n",
              "       [5.1, 3.8, 1.9, 0.4],\n",
              "       [5.7, 2.9, 4.2, 1.3],\n",
              "       [6.4, 2.7, 5.3, 1.9],\n",
              "       [5.4, 3.4, 1.7, 0.2],\n",
              "       [6.8, 3. , 5.5, 2.1],\n",
              "       [6.3, 2.5, 4.9, 1.5],\n",
              "       [4.4, 3.2, 1.3, 0.2],\n",
              "       [4.9, 3.1, 1.5, 0.1],\n",
              "       [7.7, 2.6, 6.9, 2.3],\n",
              "       [5. , 3.4, 1.5, 0.2],\n",
              "       [6. , 2.7, 5.1, 1.6],\n",
              "       [6.7, 3.3, 5.7, 2.5],\n",
              "       [5. , 3.5, 1.6, 0.6],\n",
              "       [6.4, 3.2, 5.3, 2.3],\n",
              "       [7.4, 2.8, 6.1, 1.9],\n",
              "       [6.9, 3.1, 5.4, 2.1],\n",
              "       [5.9, 3.2, 4.8, 1.8],\n",
              "       [5.5, 2.5, 4. , 1.3],\n",
              "       [6.2, 2.2, 4.5, 1.5],\n",
              "       [4.4, 3. , 1.3, 0.2],\n",
              "       [5. , 2.3, 3.3, 1. ],\n",
              "       [6.6, 3. , 4.4, 1.4],\n",
              "       [6.1, 2.9, 4.7, 1.4],\n",
              "       [6.2, 2.8, 4.8, 1.8],\n",
              "       [4.8, 3.4, 1.6, 0.2],\n",
              "       [5.9, 3. , 5.1, 1.8],\n",
              "       [6. , 3.4, 4.5, 1.6],\n",
              "       [7.2, 3.2, 6. , 1.8],\n",
              "       [5.8, 2.6, 4. , 1.2],\n",
              "       [4.7, 3.2, 1.3, 0.2],\n",
              "       [6.2, 3.4, 5.4, 2.3],\n",
              "       [5.1, 3.8, 1.6, 0.2],\n",
              "       [4.9, 2.4, 3.3, 1. ],\n",
              "       [6.7, 3.1, 5.6, 2.4],\n",
              "       [5.5, 2.4, 3.8, 1.1],\n",
              "       [4.9, 3.1, 1.5, 0.1]], dtype=float32)"
            ]
          },
          "metadata": {
            "tags": []
          },
          "execution_count": 4
        }
      ]
    },
    {
      "cell_type": "code",
      "metadata": {
        "colab": {
          "base_uri": "https://localhost:8080/"
        },
        "id": "HSaHFAGO7JFa",
        "outputId": "20286226-d9b0-4135-9251-4b3d5981edf7"
      },
      "source": [
        "#finding unique labels in the class variable\n",
        "np.unique(y)"
      ],
      "execution_count": null,
      "outputs": [
        {
          "output_type": "execute_result",
          "data": {
            "text/plain": [
              "array([0, 1, 2])"
            ]
          },
          "metadata": {
            "tags": []
          },
          "execution_count": 5
        }
      ]
    },
    {
      "cell_type": "markdown",
      "metadata": {
        "id": "LVQNc-TZXXlm"
      },
      "source": [
        "# Preprocessing\n",
        "this is a multi class dataseet but we are trying to convert it into a binary class<br>\n",
        "0 (Iris-setosa)<br>\n",
        "1 (Iris-versicolor)<br>\n",
        "2 (Iris-virginica)<br>\n",
        "here we are converting the dataset into <br>\n",
        "0 (Iris-setosa)<br>\n",
        "1 (not a setosa)<br>\n",
        "\n",
        "keeping only sentosa and changing the rest into not a sentosa"
      ]
    },
    {
      "cell_type": "code",
      "metadata": {
        "id": "jHuvVbf2Owgu"
      },
      "source": [
        "# converting multi-class objhects to a binary class\n",
        "def convert_binary(y):\n",
        "  new_y = np.zeros(len(y),dtype=np.int8)\n",
        "  for i in range(len(y)):\n",
        "    if(y[i] != 0):\n",
        "      new_y[i] = 1\n",
        "  return new_y"
      ],
      "execution_count": null,
      "outputs": []
    },
    {
      "cell_type": "code",
      "metadata": {
        "id": "gTFNKItMPIZn",
        "colab": {
          "base_uri": "https://localhost:8080/"
        },
        "outputId": "e1a74ce9-31d2-4085-c946-cbc21f6cc35d"
      },
      "source": [
        "binary_y = convert_binary(y)\n",
        "np.unique(binary_y)"
      ],
      "execution_count": null,
      "outputs": [
        {
          "output_type": "execute_result",
          "data": {
            "text/plain": [
              "array([0, 1], dtype=int8)"
            ]
          },
          "metadata": {
            "tags": []
          },
          "execution_count": 7
        }
      ]
    },
    {
      "cell_type": "code",
      "metadata": {
        "id": "Bhv671clIBzf",
        "colab": {
          "base_uri": "https://localhost:8080/"
        },
        "outputId": "2aca020b-b28a-4081-fcc2-f4d344a17d49"
      },
      "source": [
        "model = tf.keras.models.Sequential()\n",
        "model.add(tf.keras.layers.Dense(1, activation='sigmoid'))\n",
        "model.compile(loss='binary_crossentropy', optimizer='adam', metrics=['accuracy'])\n",
        "\n",
        "layer = model.layers[0]\n",
        "print(\"Initial Weights\")\n",
        "print(\"Layer:\",layer)\n",
        "print(\"layer weights:  \",layer.weights)\n",
        "print(\"layer bias initializer:  \",layer.bias_initializer)"
      ],
      "execution_count": null,
      "outputs": [
        {
          "output_type": "stream",
          "text": [
            "Initial Weights\n",
            "Layer: <tensorflow.python.keras.layers.core.Dense object at 0x7f5101918150>\n",
            "layer weights:   []\n",
            "layer bias initializer:   <tensorflow.python.keras.initializers.initializers_v2.Zeros object at 0x7f514dd556d0>\n"
          ],
          "name": "stdout"
        }
      ]
    },
    {
      "cell_type": "code",
      "metadata": {
        "colab": {
          "base_uri": "https://localhost:8080/"
        },
        "id": "01BgJDTILeY-",
        "outputId": "b7e610aa-249d-45c8-8463-6dbf8d01af81"
      },
      "source": [
        "history = model.fit(X,binary_y, steps_per_epoch=10, epochs=100, verbose=1, validation_split=0.3,)\n"
      ],
      "execution_count": null,
      "outputs": [
        {
          "output_type": "stream",
          "text": [
            "Epoch 1/100\n",
            "10/10 [==============================] - 1s 20ms/step - loss: 1.3181 - accuracy: 0.6571 - val_loss: 1.1690 - val_accuracy: 0.6889\n",
            "Epoch 2/100\n",
            "10/10 [==============================] - 0s 4ms/step - loss: 1.2815 - accuracy: 0.6571 - val_loss: 1.1381 - val_accuracy: 0.6889\n",
            "Epoch 3/100\n",
            "10/10 [==============================] - 0s 4ms/step - loss: 1.2469 - accuracy: 0.6571 - val_loss: 1.1063 - val_accuracy: 0.6889\n",
            "Epoch 4/100\n",
            "10/10 [==============================] - 0s 4ms/step - loss: 1.2123 - accuracy: 0.6571 - val_loss: 1.0749 - val_accuracy: 0.6889\n",
            "Epoch 5/100\n",
            "10/10 [==============================] - 0s 4ms/step - loss: 1.1773 - accuracy: 0.6571 - val_loss: 1.0440 - val_accuracy: 0.6889\n",
            "Epoch 6/100\n",
            "10/10 [==============================] - 0s 4ms/step - loss: 1.1421 - accuracy: 0.6571 - val_loss: 1.0142 - val_accuracy: 0.6889\n",
            "Epoch 7/100\n",
            "10/10 [==============================] - 0s 4ms/step - loss: 1.1087 - accuracy: 0.6571 - val_loss: 0.9835 - val_accuracy: 0.6889\n",
            "Epoch 8/100\n",
            "10/10 [==============================] - 0s 4ms/step - loss: 1.0734 - accuracy: 0.6571 - val_loss: 0.9545 - val_accuracy: 0.6889\n",
            "Epoch 9/100\n",
            "10/10 [==============================] - 0s 4ms/step - loss: 1.0417 - accuracy: 0.6571 - val_loss: 0.9247 - val_accuracy: 0.6889\n",
            "Epoch 10/100\n",
            "10/10 [==============================] - 0s 4ms/step - loss: 1.0091 - accuracy: 0.6571 - val_loss: 0.8943 - val_accuracy: 0.6889\n",
            "Epoch 11/100\n",
            "10/10 [==============================] - 0s 4ms/step - loss: 0.9736 - accuracy: 0.6571 - val_loss: 0.8666 - val_accuracy: 0.6889\n",
            "Epoch 12/100\n",
            "10/10 [==============================] - 0s 4ms/step - loss: 0.9442 - accuracy: 0.6571 - val_loss: 0.8369 - val_accuracy: 0.6889\n",
            "Epoch 13/100\n",
            "10/10 [==============================] - 0s 4ms/step - loss: 0.9121 - accuracy: 0.6571 - val_loss: 0.8082 - val_accuracy: 0.6889\n",
            "Epoch 14/100\n",
            "10/10 [==============================] - 0s 3ms/step - loss: 0.8785 - accuracy: 0.6571 - val_loss: 0.7823 - val_accuracy: 0.6889\n",
            "Epoch 15/100\n",
            "10/10 [==============================] - 0s 4ms/step - loss: 0.8491 - accuracy: 0.6571 - val_loss: 0.7556 - val_accuracy: 0.6889\n",
            "Epoch 16/100\n",
            "10/10 [==============================] - 0s 4ms/step - loss: 0.8191 - accuracy: 0.6571 - val_loss: 0.7286 - val_accuracy: 0.6889\n",
            "Epoch 17/100\n",
            "10/10 [==============================] - 0s 4ms/step - loss: 0.7886 - accuracy: 0.6571 - val_loss: 0.7027 - val_accuracy: 0.6889\n",
            "Epoch 18/100\n",
            "10/10 [==============================] - 0s 3ms/step - loss: 0.7614 - accuracy: 0.6571 - val_loss: 0.6751 - val_accuracy: 0.6889\n",
            "Epoch 19/100\n",
            "10/10 [==============================] - 0s 4ms/step - loss: 0.7309 - accuracy: 0.6571 - val_loss: 0.6499 - val_accuracy: 0.6889\n",
            "Epoch 20/100\n",
            "10/10 [==============================] - 0s 4ms/step - loss: 0.7021 - accuracy: 0.6571 - val_loss: 0.6258 - val_accuracy: 0.6889\n",
            "Epoch 21/100\n",
            "10/10 [==============================] - 0s 5ms/step - loss: 0.6747 - accuracy: 0.6571 - val_loss: 0.6028 - val_accuracy: 0.6889\n",
            "Epoch 22/100\n",
            "10/10 [==============================] - 0s 4ms/step - loss: 0.6495 - accuracy: 0.6571 - val_loss: 0.5798 - val_accuracy: 0.6889\n",
            "Epoch 23/100\n",
            "10/10 [==============================] - 0s 6ms/step - loss: 0.6235 - accuracy: 0.6571 - val_loss: 0.5585 - val_accuracy: 0.6889\n",
            "Epoch 24/100\n",
            "10/10 [==============================] - 0s 4ms/step - loss: 0.5989 - accuracy: 0.6571 - val_loss: 0.5372 - val_accuracy: 0.6889\n",
            "Epoch 25/100\n",
            "10/10 [==============================] - 0s 4ms/step - loss: 0.5751 - accuracy: 0.6571 - val_loss: 0.5165 - val_accuracy: 0.6889\n",
            "Epoch 26/100\n",
            "10/10 [==============================] - 0s 4ms/step - loss: 0.5534 - accuracy: 0.6571 - val_loss: 0.4960 - val_accuracy: 0.6889\n",
            "Epoch 27/100\n",
            "10/10 [==============================] - 0s 4ms/step - loss: 0.5306 - accuracy: 0.6571 - val_loss: 0.4767 - val_accuracy: 0.6889\n",
            "Epoch 28/100\n",
            "10/10 [==============================] - 0s 4ms/step - loss: 0.5079 - accuracy: 0.6571 - val_loss: 0.4584 - val_accuracy: 0.6889\n",
            "Epoch 29/100\n",
            "10/10 [==============================] - 0s 5ms/step - loss: 0.4884 - accuracy: 0.6571 - val_loss: 0.4412 - val_accuracy: 0.6889\n",
            "Epoch 30/100\n",
            "10/10 [==============================] - 0s 4ms/step - loss: 0.4698 - accuracy: 0.6571 - val_loss: 0.4254 - val_accuracy: 0.6889\n",
            "Epoch 31/100\n",
            "10/10 [==============================] - 0s 5ms/step - loss: 0.4518 - accuracy: 0.6571 - val_loss: 0.4117 - val_accuracy: 0.6889\n",
            "Epoch 32/100\n",
            "10/10 [==============================] - 0s 4ms/step - loss: 0.4369 - accuracy: 0.6571 - val_loss: 0.3972 - val_accuracy: 0.6889\n",
            "Epoch 33/100\n",
            "10/10 [==============================] - 0s 4ms/step - loss: 0.4209 - accuracy: 0.6571 - val_loss: 0.3843 - val_accuracy: 0.6889\n",
            "Epoch 34/100\n",
            "10/10 [==============================] - 0s 4ms/step - loss: 0.4066 - accuracy: 0.6571 - val_loss: 0.3723 - val_accuracy: 0.6889\n",
            "Epoch 35/100\n",
            "10/10 [==============================] - 0s 4ms/step - loss: 0.3928 - accuracy: 0.6571 - val_loss: 0.3614 - val_accuracy: 0.6889\n",
            "Epoch 36/100\n",
            "10/10 [==============================] - 0s 4ms/step - loss: 0.3813 - accuracy: 0.6571 - val_loss: 0.3507 - val_accuracy: 0.6889\n",
            "Epoch 37/100\n",
            "10/10 [==============================] - 0s 5ms/step - loss: 0.3700 - accuracy: 0.6571 - val_loss: 0.3410 - val_accuracy: 0.6889\n",
            "Epoch 38/100\n",
            "10/10 [==============================] - 0s 3ms/step - loss: 0.3590 - accuracy: 0.6667 - val_loss: 0.3326 - val_accuracy: 0.6889\n",
            "Epoch 39/100\n",
            "10/10 [==============================] - 0s 4ms/step - loss: 0.3498 - accuracy: 0.6667 - val_loss: 0.3244 - val_accuracy: 0.6889\n",
            "Epoch 40/100\n",
            "10/10 [==============================] - 0s 4ms/step - loss: 0.3406 - accuracy: 0.6762 - val_loss: 0.3172 - val_accuracy: 0.6889\n",
            "Epoch 41/100\n",
            "10/10 [==============================] - 0s 4ms/step - loss: 0.3331 - accuracy: 0.6857 - val_loss: 0.3103 - val_accuracy: 0.6889\n",
            "Epoch 42/100\n",
            "10/10 [==============================] - 0s 4ms/step - loss: 0.3255 - accuracy: 0.6952 - val_loss: 0.3048 - val_accuracy: 0.6889\n",
            "Epoch 43/100\n",
            "10/10 [==============================] - 0s 4ms/step - loss: 0.3196 - accuracy: 0.7143 - val_loss: 0.2991 - val_accuracy: 0.7333\n",
            "Epoch 44/100\n",
            "10/10 [==============================] - 0s 4ms/step - loss: 0.3132 - accuracy: 0.7524 - val_loss: 0.2943 - val_accuracy: 0.7333\n",
            "Epoch 45/100\n",
            "10/10 [==============================] - 0s 4ms/step - loss: 0.3078 - accuracy: 0.7619 - val_loss: 0.2896 - val_accuracy: 0.7333\n",
            "Epoch 46/100\n",
            "10/10 [==============================] - 0s 4ms/step - loss: 0.3023 - accuracy: 0.8000 - val_loss: 0.2854 - val_accuracy: 0.8000\n",
            "Epoch 47/100\n",
            "10/10 [==============================] - 0s 4ms/step - loss: 0.2979 - accuracy: 0.8286 - val_loss: 0.2810 - val_accuracy: 0.8444\n",
            "Epoch 48/100\n",
            "10/10 [==============================] - 0s 4ms/step - loss: 0.2929 - accuracy: 0.8381 - val_loss: 0.2772 - val_accuracy: 0.8444\n",
            "Epoch 49/100\n",
            "10/10 [==============================] - 0s 4ms/step - loss: 0.2885 - accuracy: 0.9143 - val_loss: 0.2737 - val_accuracy: 0.8667\n",
            "Epoch 50/100\n",
            "10/10 [==============================] - 0s 4ms/step - loss: 0.2848 - accuracy: 0.9143 - val_loss: 0.2701 - val_accuracy: 0.8889\n",
            "Epoch 51/100\n",
            "10/10 [==============================] - 0s 4ms/step - loss: 0.2808 - accuracy: 0.9333 - val_loss: 0.2668 - val_accuracy: 0.9333\n",
            "Epoch 52/100\n",
            "10/10 [==============================] - 0s 4ms/step - loss: 0.2771 - accuracy: 0.9524 - val_loss: 0.2635 - val_accuracy: 0.9556\n",
            "Epoch 53/100\n",
            "10/10 [==============================] - 0s 5ms/step - loss: 0.2735 - accuracy: 0.9524 - val_loss: 0.2605 - val_accuracy: 0.9556\n",
            "Epoch 54/100\n",
            "10/10 [==============================] - 0s 4ms/step - loss: 0.2701 - accuracy: 0.9619 - val_loss: 0.2574 - val_accuracy: 1.0000\n",
            "Epoch 55/100\n",
            "10/10 [==============================] - 0s 4ms/step - loss: 0.2667 - accuracy: 0.9714 - val_loss: 0.2544 - val_accuracy: 1.0000\n",
            "Epoch 56/100\n",
            "10/10 [==============================] - 0s 4ms/step - loss: 0.2636 - accuracy: 0.9714 - val_loss: 0.2515 - val_accuracy: 1.0000\n",
            "Epoch 57/100\n",
            "10/10 [==============================] - 0s 4ms/step - loss: 0.2606 - accuracy: 0.9810 - val_loss: 0.2487 - val_accuracy: 1.0000\n",
            "Epoch 58/100\n",
            "10/10 [==============================] - 0s 4ms/step - loss: 0.2576 - accuracy: 0.9810 - val_loss: 0.2459 - val_accuracy: 1.0000\n",
            "Epoch 59/100\n",
            "10/10 [==============================] - 0s 3ms/step - loss: 0.2544 - accuracy: 0.9905 - val_loss: 0.2432 - val_accuracy: 1.0000\n",
            "Epoch 60/100\n",
            "10/10 [==============================] - 0s 4ms/step - loss: 0.2516 - accuracy: 0.9905 - val_loss: 0.2406 - val_accuracy: 1.0000\n",
            "Epoch 61/100\n",
            "10/10 [==============================] - 0s 4ms/step - loss: 0.2486 - accuracy: 0.9905 - val_loss: 0.2380 - val_accuracy: 1.0000\n",
            "Epoch 62/100\n",
            "10/10 [==============================] - 0s 4ms/step - loss: 0.2460 - accuracy: 0.9905 - val_loss: 0.2353 - val_accuracy: 1.0000\n",
            "Epoch 63/100\n",
            "10/10 [==============================] - 0s 4ms/step - loss: 0.2429 - accuracy: 0.9905 - val_loss: 0.2328 - val_accuracy: 1.0000\n",
            "Epoch 64/100\n",
            "10/10 [==============================] - 0s 4ms/step - loss: 0.2404 - accuracy: 0.9905 - val_loss: 0.2302 - val_accuracy: 1.0000\n",
            "Epoch 65/100\n",
            "10/10 [==============================] - 0s 4ms/step - loss: 0.2375 - accuracy: 0.9905 - val_loss: 0.2277 - val_accuracy: 1.0000\n",
            "Epoch 66/100\n",
            "10/10 [==============================] - 0s 5ms/step - loss: 0.2349 - accuracy: 0.9905 - val_loss: 0.2252 - val_accuracy: 1.0000\n",
            "Epoch 67/100\n",
            "10/10 [==============================] - 0s 4ms/step - loss: 0.2322 - accuracy: 0.9905 - val_loss: 0.2229 - val_accuracy: 1.0000\n",
            "Epoch 68/100\n",
            "10/10 [==============================] - 0s 4ms/step - loss: 0.2297 - accuracy: 0.9905 - val_loss: 0.2205 - val_accuracy: 1.0000\n",
            "Epoch 69/100\n",
            "10/10 [==============================] - 0s 6ms/step - loss: 0.2272 - accuracy: 0.9905 - val_loss: 0.2181 - val_accuracy: 1.0000\n",
            "Epoch 70/100\n",
            "10/10 [==============================] - 0s 4ms/step - loss: 0.2248 - accuracy: 0.9905 - val_loss: 0.2158 - val_accuracy: 1.0000\n",
            "Epoch 71/100\n",
            "10/10 [==============================] - 0s 4ms/step - loss: 0.2223 - accuracy: 0.9905 - val_loss: 0.2135 - val_accuracy: 1.0000\n",
            "Epoch 72/100\n",
            "10/10 [==============================] - 0s 4ms/step - loss: 0.2198 - accuracy: 0.9905 - val_loss: 0.2112 - val_accuracy: 1.0000\n",
            "Epoch 73/100\n",
            "10/10 [==============================] - 0s 4ms/step - loss: 0.2175 - accuracy: 0.9905 - val_loss: 0.2090 - val_accuracy: 1.0000\n",
            "Epoch 74/100\n",
            "10/10 [==============================] - 0s 4ms/step - loss: 0.2151 - accuracy: 0.9905 - val_loss: 0.2069 - val_accuracy: 1.0000\n",
            "Epoch 75/100\n",
            "10/10 [==============================] - 0s 5ms/step - loss: 0.2129 - accuracy: 0.9905 - val_loss: 0.2047 - val_accuracy: 1.0000\n",
            "Epoch 76/100\n",
            "10/10 [==============================] - 0s 4ms/step - loss: 0.2106 - accuracy: 1.0000 - val_loss: 0.2027 - val_accuracy: 1.0000\n",
            "Epoch 77/100\n",
            "10/10 [==============================] - 0s 4ms/step - loss: 0.2083 - accuracy: 1.0000 - val_loss: 0.2006 - val_accuracy: 1.0000\n",
            "Epoch 78/100\n",
            "10/10 [==============================] - 0s 4ms/step - loss: 0.2062 - accuracy: 1.0000 - val_loss: 0.1985 - val_accuracy: 1.0000\n",
            "Epoch 79/100\n",
            "10/10 [==============================] - 0s 4ms/step - loss: 0.2041 - accuracy: 1.0000 - val_loss: 0.1965 - val_accuracy: 1.0000\n",
            "Epoch 80/100\n",
            "10/10 [==============================] - 0s 4ms/step - loss: 0.2019 - accuracy: 1.0000 - val_loss: 0.1945 - val_accuracy: 1.0000\n",
            "Epoch 81/100\n",
            "10/10 [==============================] - 0s 4ms/step - loss: 0.1998 - accuracy: 1.0000 - val_loss: 0.1926 - val_accuracy: 1.0000\n",
            "Epoch 82/100\n",
            "10/10 [==============================] - 0s 4ms/step - loss: 0.1977 - accuracy: 1.0000 - val_loss: 0.1906 - val_accuracy: 1.0000\n",
            "Epoch 83/100\n",
            "10/10 [==============================] - 0s 4ms/step - loss: 0.1957 - accuracy: 1.0000 - val_loss: 0.1887 - val_accuracy: 1.0000\n",
            "Epoch 84/100\n",
            "10/10 [==============================] - 0s 4ms/step - loss: 0.1937 - accuracy: 1.0000 - val_loss: 0.1868 - val_accuracy: 1.0000\n",
            "Epoch 85/100\n",
            "10/10 [==============================] - 0s 5ms/step - loss: 0.1917 - accuracy: 1.0000 - val_loss: 0.1850 - val_accuracy: 1.0000\n",
            "Epoch 86/100\n",
            "10/10 [==============================] - 0s 4ms/step - loss: 0.1898 - accuracy: 1.0000 - val_loss: 0.1832 - val_accuracy: 1.0000\n",
            "Epoch 87/100\n",
            "10/10 [==============================] - 0s 4ms/step - loss: 0.1879 - accuracy: 1.0000 - val_loss: 0.1813 - val_accuracy: 1.0000\n",
            "Epoch 88/100\n",
            "10/10 [==============================] - 0s 5ms/step - loss: 0.1861 - accuracy: 1.0000 - val_loss: 0.1795 - val_accuracy: 1.0000\n",
            "Epoch 89/100\n",
            "10/10 [==============================] - 0s 4ms/step - loss: 0.1840 - accuracy: 1.0000 - val_loss: 0.1777 - val_accuracy: 1.0000\n",
            "Epoch 90/100\n",
            "10/10 [==============================] - 0s 5ms/step - loss: 0.1824 - accuracy: 1.0000 - val_loss: 0.1760 - val_accuracy: 1.0000\n",
            "Epoch 91/100\n",
            "10/10 [==============================] - 0s 5ms/step - loss: 0.1804 - accuracy: 1.0000 - val_loss: 0.1743 - val_accuracy: 1.0000\n",
            "Epoch 92/100\n",
            "10/10 [==============================] - 0s 4ms/step - loss: 0.1786 - accuracy: 1.0000 - val_loss: 0.1727 - val_accuracy: 1.0000\n",
            "Epoch 93/100\n",
            "10/10 [==============================] - 0s 4ms/step - loss: 0.1769 - accuracy: 1.0000 - val_loss: 0.1710 - val_accuracy: 1.0000\n",
            "Epoch 94/100\n",
            "10/10 [==============================] - 0s 5ms/step - loss: 0.1751 - accuracy: 1.0000 - val_loss: 0.1694 - val_accuracy: 1.0000\n",
            "Epoch 95/100\n",
            "10/10 [==============================] - 0s 4ms/step - loss: 0.1734 - accuracy: 1.0000 - val_loss: 0.1678 - val_accuracy: 1.0000\n",
            "Epoch 96/100\n",
            "10/10 [==============================] - 0s 4ms/step - loss: 0.1718 - accuracy: 1.0000 - val_loss: 0.1663 - val_accuracy: 1.0000\n",
            "Epoch 97/100\n",
            "10/10 [==============================] - 0s 4ms/step - loss: 0.1701 - accuracy: 1.0000 - val_loss: 0.1647 - val_accuracy: 1.0000\n",
            "Epoch 98/100\n",
            "10/10 [==============================] - 0s 4ms/step - loss: 0.1685 - accuracy: 1.0000 - val_loss: 0.1631 - val_accuracy: 1.0000\n",
            "Epoch 99/100\n",
            "10/10 [==============================] - 0s 4ms/step - loss: 0.1668 - accuracy: 1.0000 - val_loss: 0.1615 - val_accuracy: 1.0000\n",
            "Epoch 100/100\n",
            "10/10 [==============================] - 0s 4ms/step - loss: 0.1652 - accuracy: 1.0000 - val_loss: 0.1600 - val_accuracy: 1.0000\n"
          ],
          "name": "stdout"
        }
      ]
    },
    {
      "cell_type": "code",
      "metadata": {
        "colab": {
          "base_uri": "https://localhost:8080/"
        },
        "id": "pOztT5Ve64HD",
        "outputId": "8a16d310-de1f-4538-b3b2-72ee29d474d8"
      },
      "source": [
        "score, accuracy = model.evaluate(X[1:75], binary_y[1:75], batch_size=16, verbose=0)\n",
        "print(\"NN-Score = {:.2f}\".format(score))\n",
        "print(\"NN-Accuracy = {:.2f}\".format(accuracy))"
      ],
      "execution_count": null,
      "outputs": [
        {
          "output_type": "stream",
          "text": [
            "NN-Score = 0.17\n",
            "NN-Accuracy = 1.00\n"
          ],
          "name": "stdout"
        }
      ]
    },
    {
      "cell_type": "code",
      "metadata": {
        "colab": {
          "base_uri": "https://localhost:8080/",
          "height": 201
        },
        "id": "gisKs3Be_Bvy",
        "outputId": "15feaabc-80e7-4e80-a48e-7092474637e1"
      },
      "source": [
        "#plotting the model of logistic regression here is is in a simple preceptron style\n",
        "tf.keras.utils.plot_model(model, show_shapes=True)"
      ],
      "execution_count": null,
      "outputs": [
        {
          "output_type": "execute_result",
          "data": {
            "image/png": "[encoded data removed]",
            "text/plain": [
              "<IPython.core.display.Image object>"
            ]
          },
          "metadata": {
            "tags": []
          },
          "execution_count": 11
        }
      ]
    },
    {
      "cell_type": "code",
      "metadata": {
        "id": "spfxbO_Y_e_q"
      },
      "source": [
        "#Confusion matrix\n",
        "y_pred = model.predict(X)"
      ],
      "execution_count": null,
      "outputs": []
    },
    {
      "cell_type": "code",
      "metadata": {
        "id": "nl0hEJaSHHrL",
        "colab": {
          "base_uri": "https://localhost:8080/"
        },
        "outputId": "96ba44d9-c766-4977-c3f0-0d5d8691c3de"
      },
      "source": [
        "tf.math.confusion_matrix(binary_y, y_pred )"
      ],
      "execution_count": null,
      "outputs": [
        {
          "output_type": "execute_result",
          "data": {
            "text/plain": [
              "<tf.Tensor: shape=(2, 2), dtype=int32, numpy=\n",
              "array([[ 50,   0],\n",
              "       [100,   0]], dtype=int32)>"
            ]
          },
          "metadata": {
            "tags": []
          },
          "execution_count": 13
        }
      ]
    },
    {
      "cell_type": "code",
      "metadata": {
        "colab": {
          "base_uri": "https://localhost:8080/",
          "height": 519
        },
        "id": "AqVL_zNHUcyY",
        "outputId": "34e5962a-5338-47ce-a757-3107eca5f87d"
      },
      "source": [
        "#Plotting metric curves\n",
        "import matplotlib.pyplot as plt\n",
        "\n",
        "\n",
        "\n",
        "plt.figure(figsize=(16, 8))\n",
        "\n",
        "plt.subplot(1, 2, 1)\n",
        "plt.plot(history.history['accuracy'])\n",
        "plt.plot(history.history['val_accuracy'])\n",
        "plt.xlabel(\"Epochs\")\n",
        "plt.ylabel('accuracy')\n",
        "plt.legend(['accuracy', 'val_accuracy'])\n",
        "plt.ylim(None, 1)\n",
        "\n",
        "plt.subplot(1, 2, 2)\n",
        "plt.plot(history.history['loss'])\n",
        "plt.plot(history.history['val_loss'])\n",
        "plt.xlabel(\"Epochs\")\n",
        "plt.ylabel('loss')\n",
        "plt.legend(['loss', 'val_loss'])\n",
        "plt.ylim(0, None)"
      ],
      "execution_count": null,
      "outputs": [
        {
          "output_type": "execute_result",
          "data": {
            "text/plain": [
              "(0.0, 1.3760351985692978)"
            ]
          },
          "metadata": {
            "tags": []
          },
          "execution_count": 14
        },
        {
          "output_type": "display_data",
          "data": {
            "image/png": "[encoded data removed]",
            "text/plain": [
              "<Figure size 1152x576 with 2 Axes>"
            ]
          },
          "metadata": {
            "tags": [],
            "needs_background": "light"
          }
        }
      ]
    },
    {
      "cell_type": "code",
      "metadata": {
        "id": "wvwI4CpUVR0u",
        "colab": {
          "base_uri": "https://localhost:8080/"
        },
        "outputId": "7963f45e-e4ae-4907-f70d-7e21aafd6166"
      },
      "source": [
        "layer = model.layers[0]\n",
        "print(\"Layer:\",layer)\n",
        "print(\"layer weights:  \",layer.weights)\n",
        "print(\"layer bias:  \",layer.bias.numpy())\n",
        "print(\"layer bias initializer:  \",layer.bias_initializer)"
      ],
      "execution_count": null,
      "outputs": [
        {
          "output_type": "stream",
          "text": [
            "Layer: <tensorflow.python.keras.layers.core.Dense object at 0x7f5101918150>\n",
            "layer weights:   [<tf.Variable 'dense/kernel:0' shape=(4, 1) dtype=float32, numpy=\n",
            "array([[ 0.28385147],\n",
            "       [-0.8314129 ],\n",
            "       [ 0.52591366],\n",
            "       [ 0.7323479 ]], dtype=float32)>, <tf.Variable 'dense/bias:0' shape=(1,) dtype=float32, numpy=array([-0.5067841], dtype=float32)>]\n",
            "layer bias:   [-0.5067841]\n",
            "layer bias initializer:   <tensorflow.python.keras.initializers.initializers_v2.Zeros object at 0x7f514dd556d0>\n"
          ],
          "name": "stdout"
        }
      ]
    }
  ]
}
