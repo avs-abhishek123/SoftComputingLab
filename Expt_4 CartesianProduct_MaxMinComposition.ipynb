{
  "nbformat": 4,
  "nbformat_minor": 0,
  "metadata": {
    "colab": {
      "name": "Expt_4.ipynb",
      "provenance": []
    },
    "kernelspec": {
      "name": "python3",
      "display_name": "Python 3"
    },
    "language_info": {
      "name": "python"
    }
  },
  "cells": [
    {
      "cell_type": "markdown",
      "metadata": {
        "id": "cCqfY05dMwcI"
      },
      "source": [
        "#**Create Fuzzy relation by Cartesian product of any two Fuzzy sets and perform Max-Min composition of any two Fuzzy relations.**"
      ]
    },
    {
      "cell_type": "markdown",
      "metadata": {
        "id": "gijNwH8JXyXT"
      },
      "source": [
        "122021601009 - ALLENA VENKATA SAI ABHISHEK"
      ]
    },
    {
      "cell_type": "code",
      "metadata": {
        "colab": {
          "base_uri": "https://localhost:8080/"
        },
        "id": "3r4vAcgXMsvD",
        "outputId": "0bf4d402-8152-4a33-ed32-578bbeb3666e"
      },
      "source": [
        "pip install colorama\n"
      ],
      "execution_count": null,
      "outputs": [
        {
          "output_type": "stream",
          "text": [
            "Collecting colorama\n",
            "  Downloading https://files.pythonhosted.org/packages/44/98/5b86278fbbf250d239ae0ecb724f8572af1c91f4a11edf4d36a206189440/colorama-0.4.4-py2.py3-none-any.whl\n",
            "Installing collected packages: colorama\n",
            "Successfully installed colorama-0.4.4\n"
          ],
          "name": "stdout"
        }
      ]
    },
    {
      "cell_type": "markdown",
      "metadata": {
        "id": "jC2jhNY1M_nn"
      },
      "source": [
        "For different conditions you have to change the conditions in the Cartesian product and Crisp relation functions"
      ]
    },
    {
      "cell_type": "code",
      "metadata": {
        "colab": {
          "base_uri": "https://localhost:8080/"
        },
        "id": "sraup13ZVuYv",
        "outputId": "7d58c07a-634d-4a36-c830-92ce8ca2e73a"
      },
      "source": [
        "import numpy as np\n",
        "from colorama import Fore\n",
        "### This function takes the user input with same number of elements in set 1 and set2####\n",
        "def UserInput():\n",
        " listX =[]\n",
        " listY=[]\n",
        " print(\"Enter number of elements X: \")\n",
        " nX=int(input())\n",
        " print(\"Enter number of elements Y: \")\n",
        " nY = int(input())\n",
        " print(Fore.RED + \"Enter values for set X: \")\n",
        " for i in range(nX):\n",
        "    x= int(input())\n",
        "    listX.append(x)\n",
        " print(\"Enter values for set Y: \")\n",
        " for j in range(nY):\n",
        "   y= int(input())\n",
        "   listY.append(y)\n",
        " print(\"X = {\",listX,\"}\")\n",
        " print(\"Y = {\",listY,\"}\")\n",
        " CartesianProduct(listX,listY) ## passing the listX and listY to Cartesianproduct function\n",
        " crisprelationRS(listX,listY)## passing the listX and listY to crisp relationRS function\n",
        "###This function creates cartesian product of two sets\n",
        "def CartesianProduct(listX,listY):\n",
        " print()\n",
        " print(Fore.BLUE+\"cartesian product of X and Y\")\n",
        " print(\"{\",end=\"\")\n",
        " for k in listX:\n",
        "  for m in listY:\n",
        "    print((k,m),end=\",\")\n",
        " print(\"}\")\n",
        " print()\n",
        " print(\"R relation:\")\n",
        " print(\"{\",end=\"\")\n",
        " for k in listX:\n",
        "  for m in listY:\n",
        "    if (k+2==m):\n",
        "      print((k,m),end=\",\")\n",
        " print(\"}\")\n",
        " print()\n",
        " print(\"S relation: \")\n",
        " print(\"{\",end=\"\")\n",
        " for k in listX:\n",
        "  for m in listY:\n",
        "    if (k<m):\n",
        "      print((k,m),end=\",\")\n",
        " print(\"}\")\n",
        "#### This function creates a crisp relation for R and S ,generates matrices for R and S\n",
        "def crisprelationRS(listX,listY):\n",
        " print()\n",
        " print(Fore.GREEN+\"R Matrix: \")\n",
        " new_R=[]\n",
        " new_S=[]\n",
        " for x in listX:\n",
        "  for y in listY:\n",
        "    if (y==x+2):\n",
        "      new_R.append(1)\n",
        "    else:\n",
        "      new_R.append(0)\n",
        "    if (x<y):\n",
        "      new_S.append(1)\n",
        "    else:\n",
        "      new_S.append(0)\n",
        " R_matrix = np.array(new_R).reshape(len(listX),len(listY))\n",
        " S_matrix = np.array(new_S).reshape(len(listX),len(listY))\n",
        " print(R_matrix)\n",
        " print()\n",
        " print(\"S Matrix\")\n",
        " print(S_matrix)\n",
        " MinOperation(R_matrix,S_matrix)## passing the R_matrix and S_matrix to MinOperation function\n",
        "###This function is used to find the minimum operation in composition operation\n",
        "def MinOperation(R_matrix,S_matrix):\n",
        " min_list=[]\n",
        " # iterate through rows of R_matrix\n",
        " for i in range(len(R_matrix)):\n",
        "  for j in range(len(S_matrix[0])): #column length to compare the elements number of times\n",
        " # iterate through rows of S_matrix\n",
        "    for k in range(len(S_matrix)):\n",
        "      min_list.append(min(R_matrix[i][k] , S_matrix[k][j]))\n",
        " A=np.array(min_list).reshape(len(R_matrix)*len(R_matrix),len(S_matrix ))\n",
        " print(Fore.LIGHTRED_EX+\"Minimum operation (Ros): \")\n",
        " print(A)\n",
        " MaxOperation(A,R_matrix,S_matrix) ## passing the A list,R_matrix and S_matrix to MaxOperation function\n",
        "###This function is used to find the maximum operation which is the next step in composition relation\n",
        "def MaxOperation(A,R_matrix,S_matrix):\n",
        " print()\n",
        " print(\"composition operation RoS is:\")\n",
        " com_list=[]\n",
        " for i in range(len(A)):\n",
        "  max_A=max(A[i])\n",
        "  com_list.append(max_A)\n",
        " B=np.array(com_list).reshape(len(R_matrix),len(S_matrix))\n",
        " print(B)\n",
        "UserInput() ### calling the userInput function"
      ],
      "execution_count": null,
      "outputs": [
        {
          "output_type": "stream",
          "text": [
            "Enter number of elements X: \n",
            "3\n",
            "Enter number of elements Y: \n",
            "3\n",
            "\u001b[31mEnter values for set X: \n",
            "1\n",
            "3\n",
            "5\n",
            "Enter values for set Y: \n",
            "1\n",
            "3\n",
            "5\n",
            "X = { [1, 3, 5] }\n",
            "Y = { [1, 3, 5] }\n",
            "\n",
            "\u001b[34mcartesian product of X and Y\n",
            "{(1, 1),(1, 3),(1, 5),(3, 1),(3, 3),(3, 5),(5, 1),(5, 3),(5, 5),}\n",
            "\n",
            "R relation:\n",
            "{(1, 3),(3, 5),}\n",
            "\n",
            "S relation: \n",
            "{(1, 3),(1, 5),(3, 5),}\n",
            "\n",
            "\u001b[32mR Matrix: \n",
            "[[0 1 0]\n",
            " [0 0 1]\n",
            " [0 0 0]]\n",
            "\n",
            "S Matrix\n",
            "[[0 1 1]\n",
            " [0 0 1]\n",
            " [0 0 0]]\n",
            "\u001b[91mMinimum operation (Ros): \n",
            "[[0 0 0]\n",
            " [0 0 0]\n",
            " [0 1 0]\n",
            " [0 0 0]\n",
            " [0 0 0]\n",
            " [0 0 0]\n",
            " [0 0 0]\n",
            " [0 0 0]\n",
            " [0 0 0]]\n",
            "\n",
            "composition operation RoS is:\n",
            "[[0 0 1]\n",
            " [0 0 0]\n",
            " [0 0 0]]\n"
          ],
          "name": "stdout"
        }
      ]
    }
  ]
}