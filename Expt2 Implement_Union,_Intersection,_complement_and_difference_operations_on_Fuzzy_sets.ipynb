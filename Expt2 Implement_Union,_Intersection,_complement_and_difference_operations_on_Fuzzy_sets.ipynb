{
  "nbformat": 4,
  "nbformat_minor": 0,
  "metadata": {
    "colab": {
      "name": "Implement Union, Intersection, complement and difference operations on Fuzzy sets.ipynb",
      "provenance": []
    },
    "kernelspec": {
      "name": "python3",
      "display_name": "Python 3"
    },
    "language_info": {
      "name": "python"
    }
  },
  "cells": [
    {
      "cell_type": "markdown",
      "metadata": {
        "id": "vQKOfaCj_LTM"
      },
      "source": [
        "# **Implement Union, Intersection, complement and difference operations on Fuzzy sets.**\n"
      ]
    },
    {
      "cell_type": "markdown",
      "metadata": {
        "id": "K4L0xN0Y_kY1"
      },
      "source": [
        "###**Fuzzy-Set Union Operation**"
      ]
    },
    {
      "cell_type": "code",
      "metadata": {
        "id": "X9LByFwUzQ4r",
        "colab": {
          "base_uri": "https://localhost:8080/"
        },
        "outputId": "2ed7bda3-a8e8-4214-f892-148b7206f432"
      },
      "source": [
        "# original program\n",
        "A = {\"X1\": 0.6, \"X2\": 0.2, \"X3\":1, \"X4\":0.4}\n",
        "print(\"Set A: \", A)\n",
        "B = {\"X1\": 0.1, \"X2\": 0.8, \"X3\":0, \"X4\":0.9}\n",
        "print(\"Set B: \",B)\n",
        "C = {}\n",
        "for key in A:\n",
        "  C[key] = (max(A[key],B[key]))\n",
        "print(\"Union of A and B: \", C)"
      ],
      "execution_count": null,
      "outputs": [
        {
          "output_type": "stream",
          "text": [
            "Set A:  {'X1': 0.6, 'X2': 0.2, 'X3': 1, 'X4': 0.4}\n",
            "Set B:  {'X1': 0.1, 'X2': 0.8, 'X3': 0, 'X4': 0.9}\n",
            "Union of A and B:  {'X1': 0.6, 'X2': 0.8, 'X3': 1, 'X4': 0.9}\n"
          ],
          "name": "stdout"
        }
      ]
    },
    {
      "cell_type": "markdown",
      "metadata": {
        "id": "yvg7dvj5ANAv"
      },
      "source": [
        "###**Fuzzy-Set Intersection Operation**"
      ]
    },
    {
      "cell_type": "code",
      "metadata": {
        "colab": {
          "base_uri": "https://localhost:8080/"
        },
        "id": "pHm-OrGCASKR",
        "outputId": "95176614-95c3-423c-97d3-3e7901a22c89"
      },
      "source": [
        "A = {\"X1\": 0.6, \"X2\": 0.2, \"X3\":1, \"X4\":0.4}\n",
        "print(\"Set A: \", A)\n",
        "B = {\"X1\": 0.1, \"X2\": 0.8, \"X3\":0, \"X4\":0.9}\n",
        "print(\"Set B: \",B)\n",
        "C = {}\n",
        "for key in A:\n",
        "  C[key] = (min(A[key],B[key]))\n",
        "print(\"Intersection of A and B: \", C)"
      ],
      "execution_count": null,
      "outputs": [
        {
          "output_type": "stream",
          "text": [
            "Set A:  {'X1': 0.6, 'X2': 0.2, 'X3': 1, 'X4': 0.4}\n",
            "Set B:  {'X1': 0.1, 'X2': 0.8, 'X3': 0, 'X4': 0.9}\n",
            "Intersection of A and B:  {'X1': 0.1, 'X2': 0.2, 'X3': 0, 'X4': 0.4}\n"
          ],
          "name": "stdout"
        }
      ]
    },
    {
      "cell_type": "markdown",
      "metadata": {
        "id": "IPq0cm-oAVWu"
      },
      "source": [
        "###**Fuzzy-Set Compliment Operation**"
      ]
    },
    {
      "cell_type": "code",
      "metadata": {
        "colab": {
          "base_uri": "https://localhost:8080/"
        },
        "id": "YLSjNdMeAYfC",
        "outputId": "4fca1c39-2b17-4125-856c-117f3ba5679d"
      },
      "source": [
        "A = {\"X1\": 0.6, \"X2\": 0.2, \"X3\":1, \"X4\":0.4}\n",
        "print(\"Set A: \", A)\n",
        "B = {\"X1\": 0.1, \"X2\": 0.8, \"X3\":0, \"X4\":0.9}\n",
        "print(\"Set B: \",B)\n",
        "C = {}\n",
        "D = {}\n",
        "for key in A:\n",
        "  C[key] = 1 - (A[key])\n",
        "  D[key] = 1 - (B[key])\n",
        "print(\"Compliment of A: \", C)\n",
        "print(\"Compliment of B: \", D)"
      ],
      "execution_count": null,
      "outputs": [
        {
          "output_type": "stream",
          "text": [
            "Set A:  {'X1': 0.6, 'X2': 0.2, 'X3': 1, 'X4': 0.4}\n",
            "Set B:  {'X1': 0.1, 'X2': 0.8, 'X3': 0, 'X4': 0.9}\n",
            "Compliment of A:  {'X1': 0.4, 'X2': 0.8, 'X3': 0, 'X4': 0.6}\n",
            "Compliment of B:  {'X1': 0.9, 'X2': 0.19999999999999996, 'X3': 1, 'X4': 0.09999999999999998}\n"
          ],
          "name": "stdout"
        }
      ]
    },
    {
      "cell_type": "markdown",
      "metadata": {
        "id": "11uKBkhnAg1x"
      },
      "source": [
        "###**Fuzzy-Set Difference Operation**"
      ]
    },
    {
      "cell_type": "code",
      "metadata": {
        "colab": {
          "base_uri": "https://localhost:8080/"
        },
        "id": "s5CkzaJKAhne",
        "outputId": "117a5104-3add-4a9c-da44-2fcf8872be78"
      },
      "source": [
        "A = {\"X1\": 0.6, \"X2\": 0.2, \"X3\":1, \"X4\":0.4}\n",
        "print(\"Set A: \", A)\n",
        "B = {\"X1\": 0.1, \"X2\": 0.8, \"X3\":0, \"X4\":0.9}\n",
        "print(\"Set B: \",B)\n",
        "C = {}\n",
        "for key in A:\n",
        "  C[key] = (min(A[key],1-B[key]))\n",
        "print(\"Difference of A and B: \", C)"
      ],
      "execution_count": null,
      "outputs": [
        {
          "output_type": "stream",
          "text": [
            "Set A:  {'X1': 0.6, 'X2': 0.2, 'X3': 1, 'X4': 0.4}\n",
            "Set B:  {'X1': 0.1, 'X2': 0.8, 'X3': 0, 'X4': 0.9}\n",
            "Difference of A and B:  {'X1': 0.6, 'X2': 0.19999999999999996, 'X3': 1, 'X4': 0.09999999999999998}\n"
          ],
          "name": "stdout"
        }
      ]
    }
  ]
}